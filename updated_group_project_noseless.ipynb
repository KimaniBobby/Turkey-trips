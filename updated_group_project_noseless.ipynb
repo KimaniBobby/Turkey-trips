{
  "cells": [
    {
      "cell_type": "markdown",
      "metadata": {
        "id": "view-in-github",
        "colab_type": "text"
      },
      "source": [
        "<a href=\"https://colab.research.google.com/github/KimaniBobby/Turkey-trips/blob/main/updated_group_project_noseless.ipynb\" target=\"_parent\"><img src=\"https://colab.research.google.com/assets/colab-badge.svg\" alt=\"Open In Colab\"/></a>"
      ]
    },
    {
      "cell_type": "markdown",
      "metadata": {
        "id": "FsFlgqxsRCZ_"
      },
      "source": [
        "**Statistical Analysis For Turkey Trips**"
      ]
    },
    {
      "cell_type": "markdown",
      "metadata": {
        "id": "70_DLFjyH4nf"
      },
      "source": [
        "Data required:\n",
        "\n",
        "1.   Travel Routes that are purchase most frequently for all customers\n",
        "2.   Travel routes that are purchased most frequently by men vs women\n",
        "3.   Travel routes that are purchased most frequently normal vs student\n",
        "4.   Companies that are preferered most frequently for each type of customer (man vs woman, normal vs student)\n",
        "5.   Seasons, months or national holidays that people travel ost frequently for each type of customer (man vs woman, normal vs student)\n",
        "\n"
      ]
    },
    {
      "cell_type": "markdown",
      "metadata": {
        "id": "HnLPacYVVuyc"
      },
      "source": [
        "# **1).   Travel Routes that are purchase most frequently for all customers**"
      ]
    },
    {
      "cell_type": "code",
      "execution_count": 1,
      "metadata": {
        "id": "n8weYUmYH472"
      },
      "outputs": [],
      "source": [
        "import pandas as pd\n",
        "#import numpy as np\n",
        "import matplotlib.pyplot as plt"
      ]
    },
    {
      "cell_type": "code",
      "execution_count": 2,
      "metadata": {
        "id": "SMvPcdn7iINj",
        "colab": {
          "base_uri": "https://localhost:8080/"
        },
        "outputId": "9e6ec85b-fd5e-4cd2-9a3b-1e9b5dc99cc6"
      },
      "outputs": [
        {
          "output_type": "stream",
          "name": "stdout",
          "text": [
            "Mounted at /content/drive\n"
          ]
        }
      ],
      "source": [
        "from google.colab import drive\n",
        "drive.mount('/content/drive')"
      ]
    },
    {
      "cell_type": "markdown",
      "metadata": {
        "id": "kyfELc-z6ahg"
      },
      "source": [
        "Read the Cleaned CSV data"
      ]
    },
    {
      "cell_type": "code",
      "execution_count": 3,
      "metadata": {
        "id": "yICZhHNmihma"
      },
      "outputs": [],
      "source": [
        "travel= pd.read_csv('/content/drive/MyDrive/Colab Notebooks/travel_dataset_cleaning_1_2.csv',encoding= 'unicode_escape')\n",
        "holiday=pd.read_csv('/content/drive/MyDrive/Colab Notebooks/holiday_names.csv',encoding= 'unicode_escape')"
      ]
    },
    {
      "cell_type": "code",
      "execution_count": 4,
      "metadata": {
        "colab": {
          "base_uri": "https://localhost:8080/",
          "height": 268
        },
        "id": "RXtCB7EkllYw",
        "outputId": "7188796e-42c7-4392-9e08-b0fd143372d2",
        "scrolled": true
      },
      "outputs": [
        {
          "output_type": "execute_result",
          "data": {
            "text/plain": [
              "   ï»¿travel_company  local_time   months traveller_type    office_location  \\\n",
              "0                343  21/01/2014  January         normal  11-nisan (aligor)   \n",
              "1                476  23/01/2012  January         normal             acigol   \n",
              "2                476  20/01/2015  January         normal             acigol   \n",
              "3                476  20/01/2015  January         normal             acigol   \n",
              "4                476  20/01/2015  January         normal             acigol   \n",
              "\n",
              "  departure_point arrival_point seat_state transaction_details  seat_no  \\\n",
              "0          aligor         serik        man             30:05.0        3   \n",
              "1          acigol      istanbul        man             41:40.0       49   \n",
              "2          acigol      istanbul        man             37:40.0       35   \n",
              "3          acigol      istanbul        man             37:40.0       36   \n",
              "4          acigol      istanbul        man             36:53.0       38   \n",
              "\n",
              "   ticket_price         travel_type  \\\n",
              "0          70.0  stops_in_rest_area   \n",
              "1          50.0  stops_in_rest_area   \n",
              "2          50.0  stops_in_rest_area   \n",
              "3          50.0  stops_in_rest_area   \n",
              "4          50.0  stops_in_rest_area   \n",
              "\n",
              "   no_ticket_purchased_other_customers_same_vehicle  \n",
              "0                                                52  \n",
              "1                                                53  \n",
              "2                                                48  \n",
              "3                                                48  \n",
              "4                                                48  "
            ],
            "text/html": [
              "\n",
              "  <div id=\"df-4c5b9305-3ae5-4eca-a202-541752ed0533\">\n",
              "    <div class=\"colab-df-container\">\n",
              "      <div>\n",
              "<style scoped>\n",
              "    .dataframe tbody tr th:only-of-type {\n",
              "        vertical-align: middle;\n",
              "    }\n",
              "\n",
              "    .dataframe tbody tr th {\n",
              "        vertical-align: top;\n",
              "    }\n",
              "\n",
              "    .dataframe thead th {\n",
              "        text-align: right;\n",
              "    }\n",
              "</style>\n",
              "<table border=\"1\" class=\"dataframe\">\n",
              "  <thead>\n",
              "    <tr style=\"text-align: right;\">\n",
              "      <th></th>\n",
              "      <th>ï»¿travel_company</th>\n",
              "      <th>local_time</th>\n",
              "      <th>months</th>\n",
              "      <th>traveller_type</th>\n",
              "      <th>office_location</th>\n",
              "      <th>departure_point</th>\n",
              "      <th>arrival_point</th>\n",
              "      <th>seat_state</th>\n",
              "      <th>transaction_details</th>\n",
              "      <th>seat_no</th>\n",
              "      <th>ticket_price</th>\n",
              "      <th>travel_type</th>\n",
              "      <th>no_ticket_purchased_other_customers_same_vehicle</th>\n",
              "    </tr>\n",
              "  </thead>\n",
              "  <tbody>\n",
              "    <tr>\n",
              "      <th>0</th>\n",
              "      <td>343</td>\n",
              "      <td>21/01/2014</td>\n",
              "      <td>January</td>\n",
              "      <td>normal</td>\n",
              "      <td>11-nisan (aligor)</td>\n",
              "      <td>aligor</td>\n",
              "      <td>serik</td>\n",
              "      <td>man</td>\n",
              "      <td>30:05.0</td>\n",
              "      <td>3</td>\n",
              "      <td>70.0</td>\n",
              "      <td>stops_in_rest_area</td>\n",
              "      <td>52</td>\n",
              "    </tr>\n",
              "    <tr>\n",
              "      <th>1</th>\n",
              "      <td>476</td>\n",
              "      <td>23/01/2012</td>\n",
              "      <td>January</td>\n",
              "      <td>normal</td>\n",
              "      <td>acigol</td>\n",
              "      <td>acigol</td>\n",
              "      <td>istanbul</td>\n",
              "      <td>man</td>\n",
              "      <td>41:40.0</td>\n",
              "      <td>49</td>\n",
              "      <td>50.0</td>\n",
              "      <td>stops_in_rest_area</td>\n",
              "      <td>53</td>\n",
              "    </tr>\n",
              "    <tr>\n",
              "      <th>2</th>\n",
              "      <td>476</td>\n",
              "      <td>20/01/2015</td>\n",
              "      <td>January</td>\n",
              "      <td>normal</td>\n",
              "      <td>acigol</td>\n",
              "      <td>acigol</td>\n",
              "      <td>istanbul</td>\n",
              "      <td>man</td>\n",
              "      <td>37:40.0</td>\n",
              "      <td>35</td>\n",
              "      <td>50.0</td>\n",
              "      <td>stops_in_rest_area</td>\n",
              "      <td>48</td>\n",
              "    </tr>\n",
              "    <tr>\n",
              "      <th>3</th>\n",
              "      <td>476</td>\n",
              "      <td>20/01/2015</td>\n",
              "      <td>January</td>\n",
              "      <td>normal</td>\n",
              "      <td>acigol</td>\n",
              "      <td>acigol</td>\n",
              "      <td>istanbul</td>\n",
              "      <td>man</td>\n",
              "      <td>37:40.0</td>\n",
              "      <td>36</td>\n",
              "      <td>50.0</td>\n",
              "      <td>stops_in_rest_area</td>\n",
              "      <td>48</td>\n",
              "    </tr>\n",
              "    <tr>\n",
              "      <th>4</th>\n",
              "      <td>476</td>\n",
              "      <td>20/01/2015</td>\n",
              "      <td>January</td>\n",
              "      <td>normal</td>\n",
              "      <td>acigol</td>\n",
              "      <td>acigol</td>\n",
              "      <td>istanbul</td>\n",
              "      <td>man</td>\n",
              "      <td>36:53.0</td>\n",
              "      <td>38</td>\n",
              "      <td>50.0</td>\n",
              "      <td>stops_in_rest_area</td>\n",
              "      <td>48</td>\n",
              "    </tr>\n",
              "  </tbody>\n",
              "</table>\n",
              "</div>\n",
              "      <button class=\"colab-df-convert\" onclick=\"convertToInteractive('df-4c5b9305-3ae5-4eca-a202-541752ed0533')\"\n",
              "              title=\"Convert this dataframe to an interactive table.\"\n",
              "              style=\"display:none;\">\n",
              "        \n",
              "  <svg xmlns=\"http://www.w3.org/2000/svg\" height=\"24px\"viewBox=\"0 0 24 24\"\n",
              "       width=\"24px\">\n",
              "    <path d=\"M0 0h24v24H0V0z\" fill=\"none\"/>\n",
              "    <path d=\"M18.56 5.44l.94 2.06.94-2.06 2.06-.94-2.06-.94-.94-2.06-.94 2.06-2.06.94zm-11 1L8.5 8.5l.94-2.06 2.06-.94-2.06-.94L8.5 2.5l-.94 2.06-2.06.94zm10 10l.94 2.06.94-2.06 2.06-.94-2.06-.94-.94-2.06-.94 2.06-2.06.94z\"/><path d=\"M17.41 7.96l-1.37-1.37c-.4-.4-.92-.59-1.43-.59-.52 0-1.04.2-1.43.59L10.3 9.45l-7.72 7.72c-.78.78-.78 2.05 0 2.83L4 21.41c.39.39.9.59 1.41.59.51 0 1.02-.2 1.41-.59l7.78-7.78 2.81-2.81c.8-.78.8-2.07 0-2.86zM5.41 20L4 18.59l7.72-7.72 1.47 1.35L5.41 20z\"/>\n",
              "  </svg>\n",
              "      </button>\n",
              "      \n",
              "  <style>\n",
              "    .colab-df-container {\n",
              "      display:flex;\n",
              "      flex-wrap:wrap;\n",
              "      gap: 12px;\n",
              "    }\n",
              "\n",
              "    .colab-df-convert {\n",
              "      background-color: #E8F0FE;\n",
              "      border: none;\n",
              "      border-radius: 50%;\n",
              "      cursor: pointer;\n",
              "      display: none;\n",
              "      fill: #1967D2;\n",
              "      height: 32px;\n",
              "      padding: 0 0 0 0;\n",
              "      width: 32px;\n",
              "    }\n",
              "\n",
              "    .colab-df-convert:hover {\n",
              "      background-color: #E2EBFA;\n",
              "      box-shadow: 0px 1px 2px rgba(60, 64, 67, 0.3), 0px 1px 3px 1px rgba(60, 64, 67, 0.15);\n",
              "      fill: #174EA6;\n",
              "    }\n",
              "\n",
              "    [theme=dark] .colab-df-convert {\n",
              "      background-color: #3B4455;\n",
              "      fill: #D2E3FC;\n",
              "    }\n",
              "\n",
              "    [theme=dark] .colab-df-convert:hover {\n",
              "      background-color: #434B5C;\n",
              "      box-shadow: 0px 1px 3px 1px rgba(0, 0, 0, 0.15);\n",
              "      filter: drop-shadow(0px 1px 2px rgba(0, 0, 0, 0.3));\n",
              "      fill: #FFFFFF;\n",
              "    }\n",
              "  </style>\n",
              "\n",
              "      <script>\n",
              "        const buttonEl =\n",
              "          document.querySelector('#df-4c5b9305-3ae5-4eca-a202-541752ed0533 button.colab-df-convert');\n",
              "        buttonEl.style.display =\n",
              "          google.colab.kernel.accessAllowed ? 'block' : 'none';\n",
              "\n",
              "        async function convertToInteractive(key) {\n",
              "          const element = document.querySelector('#df-4c5b9305-3ae5-4eca-a202-541752ed0533');\n",
              "          const dataTable =\n",
              "            await google.colab.kernel.invokeFunction('convertToInteractive',\n",
              "                                                     [key], {});\n",
              "          if (!dataTable) return;\n",
              "\n",
              "          const docLinkHtml = 'Like what you see? Visit the ' +\n",
              "            '<a target=\"_blank\" href=https://colab.research.google.com/notebooks/data_table.ipynb>data table notebook</a>'\n",
              "            + ' to learn more about interactive tables.';\n",
              "          element.innerHTML = '';\n",
              "          dataTable['output_type'] = 'display_data';\n",
              "          await google.colab.output.renderOutput(dataTable, element);\n",
              "          const docLink = document.createElement('div');\n",
              "          docLink.innerHTML = docLinkHtml;\n",
              "          element.appendChild(docLink);\n",
              "        }\n",
              "      </script>\n",
              "    </div>\n",
              "  </div>\n",
              "  "
            ]
          },
          "metadata": {},
          "execution_count": 4
        }
      ],
      "source": [
        "travel.head() # display the first 5 entries of the mounted csv file"
      ]
    },
    {
      "cell_type": "code",
      "source": [
        "holiday.head() #display the first 5 entries of Turkish holidays csv "
      ],
      "metadata": {
        "colab": {
          "base_uri": "https://localhost:8080/",
          "height": 204
        },
        "id": "2qCNNeo3fkwo",
        "outputId": "db3cc5b5-065a-4d67-9b08-10c98f1a2032"
      },
      "execution_count": 5,
      "outputs": [
        {
          "output_type": "execute_result",
          "data": {
            "text/plain": [
              "      ï»¿2012        2013        2014        2015  \\\n",
              "0  01/01/2012  01/01/2013  01/01/2014  01/01/2015   \n",
              "1  20/03/2012  20/03/2013  20/03/2014  20/03/2015   \n",
              "2  23/04/2012  23/04/2013  23/04/2014  23/04/2015   \n",
              "3  01/05/2012  01/05/2013  01/05/2014  01/05/2015   \n",
              "4  19/05/2012  19/05/2013  19/05/2014  19/05/2015   \n",
              "\n",
              "                                     holiday_name  \n",
              "0                                  New Year's Day  \n",
              "1                                   March Equinox  \n",
              "2         National Sovereignty and Children's Day  \n",
              "3                        Labor and Solidarity Day  \n",
              "4  Commemoration of Ataturk, Youth and Sports Day  "
            ],
            "text/html": [
              "\n",
              "  <div id=\"df-a52e98e9-a17b-47a6-b31d-998a8bd64aa3\">\n",
              "    <div class=\"colab-df-container\">\n",
              "      <div>\n",
              "<style scoped>\n",
              "    .dataframe tbody tr th:only-of-type {\n",
              "        vertical-align: middle;\n",
              "    }\n",
              "\n",
              "    .dataframe tbody tr th {\n",
              "        vertical-align: top;\n",
              "    }\n",
              "\n",
              "    .dataframe thead th {\n",
              "        text-align: right;\n",
              "    }\n",
              "</style>\n",
              "<table border=\"1\" class=\"dataframe\">\n",
              "  <thead>\n",
              "    <tr style=\"text-align: right;\">\n",
              "      <th></th>\n",
              "      <th>ï»¿2012</th>\n",
              "      <th>2013</th>\n",
              "      <th>2014</th>\n",
              "      <th>2015</th>\n",
              "      <th>holiday_name</th>\n",
              "    </tr>\n",
              "  </thead>\n",
              "  <tbody>\n",
              "    <tr>\n",
              "      <th>0</th>\n",
              "      <td>01/01/2012</td>\n",
              "      <td>01/01/2013</td>\n",
              "      <td>01/01/2014</td>\n",
              "      <td>01/01/2015</td>\n",
              "      <td>New Year's Day</td>\n",
              "    </tr>\n",
              "    <tr>\n",
              "      <th>1</th>\n",
              "      <td>20/03/2012</td>\n",
              "      <td>20/03/2013</td>\n",
              "      <td>20/03/2014</td>\n",
              "      <td>20/03/2015</td>\n",
              "      <td>March Equinox</td>\n",
              "    </tr>\n",
              "    <tr>\n",
              "      <th>2</th>\n",
              "      <td>23/04/2012</td>\n",
              "      <td>23/04/2013</td>\n",
              "      <td>23/04/2014</td>\n",
              "      <td>23/04/2015</td>\n",
              "      <td>National Sovereignty and Children's Day</td>\n",
              "    </tr>\n",
              "    <tr>\n",
              "      <th>3</th>\n",
              "      <td>01/05/2012</td>\n",
              "      <td>01/05/2013</td>\n",
              "      <td>01/05/2014</td>\n",
              "      <td>01/05/2015</td>\n",
              "      <td>Labor and Solidarity Day</td>\n",
              "    </tr>\n",
              "    <tr>\n",
              "      <th>4</th>\n",
              "      <td>19/05/2012</td>\n",
              "      <td>19/05/2013</td>\n",
              "      <td>19/05/2014</td>\n",
              "      <td>19/05/2015</td>\n",
              "      <td>Commemoration of Ataturk, Youth and Sports Day</td>\n",
              "    </tr>\n",
              "  </tbody>\n",
              "</table>\n",
              "</div>\n",
              "      <button class=\"colab-df-convert\" onclick=\"convertToInteractive('df-a52e98e9-a17b-47a6-b31d-998a8bd64aa3')\"\n",
              "              title=\"Convert this dataframe to an interactive table.\"\n",
              "              style=\"display:none;\">\n",
              "        \n",
              "  <svg xmlns=\"http://www.w3.org/2000/svg\" height=\"24px\"viewBox=\"0 0 24 24\"\n",
              "       width=\"24px\">\n",
              "    <path d=\"M0 0h24v24H0V0z\" fill=\"none\"/>\n",
              "    <path d=\"M18.56 5.44l.94 2.06.94-2.06 2.06-.94-2.06-.94-.94-2.06-.94 2.06-2.06.94zm-11 1L8.5 8.5l.94-2.06 2.06-.94-2.06-.94L8.5 2.5l-.94 2.06-2.06.94zm10 10l.94 2.06.94-2.06 2.06-.94-2.06-.94-.94-2.06-.94 2.06-2.06.94z\"/><path d=\"M17.41 7.96l-1.37-1.37c-.4-.4-.92-.59-1.43-.59-.52 0-1.04.2-1.43.59L10.3 9.45l-7.72 7.72c-.78.78-.78 2.05 0 2.83L4 21.41c.39.39.9.59 1.41.59.51 0 1.02-.2 1.41-.59l7.78-7.78 2.81-2.81c.8-.78.8-2.07 0-2.86zM5.41 20L4 18.59l7.72-7.72 1.47 1.35L5.41 20z\"/>\n",
              "  </svg>\n",
              "      </button>\n",
              "      \n",
              "  <style>\n",
              "    .colab-df-container {\n",
              "      display:flex;\n",
              "      flex-wrap:wrap;\n",
              "      gap: 12px;\n",
              "    }\n",
              "\n",
              "    .colab-df-convert {\n",
              "      background-color: #E8F0FE;\n",
              "      border: none;\n",
              "      border-radius: 50%;\n",
              "      cursor: pointer;\n",
              "      display: none;\n",
              "      fill: #1967D2;\n",
              "      height: 32px;\n",
              "      padding: 0 0 0 0;\n",
              "      width: 32px;\n",
              "    }\n",
              "\n",
              "    .colab-df-convert:hover {\n",
              "      background-color: #E2EBFA;\n",
              "      box-shadow: 0px 1px 2px rgba(60, 64, 67, 0.3), 0px 1px 3px 1px rgba(60, 64, 67, 0.15);\n",
              "      fill: #174EA6;\n",
              "    }\n",
              "\n",
              "    [theme=dark] .colab-df-convert {\n",
              "      background-color: #3B4455;\n",
              "      fill: #D2E3FC;\n",
              "    }\n",
              "\n",
              "    [theme=dark] .colab-df-convert:hover {\n",
              "      background-color: #434B5C;\n",
              "      box-shadow: 0px 1px 3px 1px rgba(0, 0, 0, 0.15);\n",
              "      filter: drop-shadow(0px 1px 2px rgba(0, 0, 0, 0.3));\n",
              "      fill: #FFFFFF;\n",
              "    }\n",
              "  </style>\n",
              "\n",
              "      <script>\n",
              "        const buttonEl =\n",
              "          document.querySelector('#df-a52e98e9-a17b-47a6-b31d-998a8bd64aa3 button.colab-df-convert');\n",
              "        buttonEl.style.display =\n",
              "          google.colab.kernel.accessAllowed ? 'block' : 'none';\n",
              "\n",
              "        async function convertToInteractive(key) {\n",
              "          const element = document.querySelector('#df-a52e98e9-a17b-47a6-b31d-998a8bd64aa3');\n",
              "          const dataTable =\n",
              "            await google.colab.kernel.invokeFunction('convertToInteractive',\n",
              "                                                     [key], {});\n",
              "          if (!dataTable) return;\n",
              "\n",
              "          const docLinkHtml = 'Like what you see? Visit the ' +\n",
              "            '<a target=\"_blank\" href=https://colab.research.google.com/notebooks/data_table.ipynb>data table notebook</a>'\n",
              "            + ' to learn more about interactive tables.';\n",
              "          element.innerHTML = '';\n",
              "          dataTable['output_type'] = 'display_data';\n",
              "          await google.colab.output.renderOutput(dataTable, element);\n",
              "          const docLink = document.createElement('div');\n",
              "          docLink.innerHTML = docLinkHtml;\n",
              "          element.appendChild(docLink);\n",
              "        }\n",
              "      </script>\n",
              "    </div>\n",
              "  </div>\n",
              "  "
            ]
          },
          "metadata": {},
          "execution_count": 5
        }
      ]
    },
    {
      "cell_type": "markdown",
      "metadata": {
        "id": "8XjqSS1u6gfB"
      },
      "source": [
        "# a.) Mode (Calculate the most occuring travel route and print the name instead of the number of occurences)"
      ]
    },
    {
      "cell_type": "code",
      "execution_count": 6,
      "metadata": {
        "colab": {
          "base_uri": "https://localhost:8080/"
        },
        "id": "sPickMNOalSO",
        "outputId": "11d86d98-c22d-41bf-c9a5-b9a53b04bcb1"
      },
      "outputs": [
        {
          "output_type": "execute_result",
          "data": {
            "text/plain": [
              "ankara       9390\n",
              "istanbul     8246\n",
              "adana        4215\n",
              "kayseri      4197\n",
              "izmir        3121\n",
              "             ... \n",
              "hastahane       1\n",
              "gomec           1\n",
              "dargecit        1\n",
              "kerkuk          1\n",
              "mecitozu        1\n",
              "Name: departure_point, Length: 483, dtype: int64"
            ]
          },
          "metadata": {},
          "execution_count": 6
        }
      ],
      "source": [
        "travel['departure_point'].value_counts()"
      ]
    },
    {
      "cell_type": "code",
      "execution_count": 7,
      "metadata": {
        "colab": {
          "base_uri": "https://localhost:8080/",
          "height": 365
        },
        "id": "S1y0Z3cWJEJU",
        "outputId": "3945e5e5-fb22-4651-f5e6-89763ced4f57",
        "scrolled": true
      },
      "outputs": [
        {
          "output_type": "display_data",
          "data": {
            "text/plain": [
              "<Figure size 432x288 with 1 Axes>"
            ],
            "image/png": "[encoded data removed]"
          },
          "metadata": {
            "needs_background": "light"
          }
        }
      ],
      "source": [
        "travel[(['departure_point','arrival_point'])].value_counts()[:10].plot(kind='bar');\n"
      ]
    },
    {
      "cell_type": "code",
      "source": [
        "travel[(['departure_point','arrival_point'])].value_counts().sum\n"
      ],
      "metadata": {
        "colab": {
          "base_uri": "https://localhost:8080/"
        },
        "id": "aCGiYCtyPGMr",
        "outputId": "03050910-0e3d-42b3-f1bb-bd4e83e760aa"
      },
      "execution_count": 8,
      "outputs": [
        {
          "output_type": "execute_result",
          "data": {
            "text/plain": [
              "<bound method NDFrame._add_numeric_operations.<locals>.sum of departure_point  arrival_point\n",
              "ankara           istanbul         917\n",
              "kayseri          ankara           833\n",
              "istanbul         ankara           632\n",
              "ankara           kayseri          597\n",
              "istanbul         ankara           517\n",
              "                                 ... \n",
              "bandirma         bucak              1\n",
              "samsun           arakli             1\n",
              "istanbul         egirdir            1\n",
              "kozan            adapazari          1\n",
              "payas            bozuyuk            1\n",
              "Length: 9085, dtype: int64>"
            ]
          },
          "metadata": {},
          "execution_count": 8
        }
      ]
    },
    {
      "cell_type": "code",
      "source": [
        "travel[(['departure_point','arrival_point'])]\n"
      ],
      "metadata": {
        "colab": {
          "base_uri": "https://localhost:8080/",
          "height": 419
        },
        "id": "2QHQDRhNecgP",
        "outputId": "0cce7829-b82f-4820-9f79-2c78cf4e3e95"
      },
      "execution_count": 9,
      "outputs": [
        {
          "output_type": "execute_result",
          "data": {
            "text/plain": [
              "      departure_point arrival_point\n",
              "0              aligor         serik\n",
              "1              acigol      istanbul\n",
              "2              acigol      istanbul\n",
              "3              acigol      istanbul\n",
              "4              acigol      istanbul\n",
              "...               ...           ...\n",
              "99917          yozgat       antalya\n",
              "99918          yozgat      istanbul\n",
              "99919          yozgat     gaziantep\n",
              "99920       zonguldak      istanbul\n",
              "99921       zonguldak      istanbul\n",
              "\n",
              "[99922 rows x 2 columns]"
            ],
            "text/html": [
              "\n",
              "  <div id=\"df-d9d03e1b-8445-4577-9d02-e5f784cd1a11\">\n",
              "    <div class=\"colab-df-container\">\n",
              "      <div>\n",
              "<style scoped>\n",
              "    .dataframe tbody tr th:only-of-type {\n",
              "        vertical-align: middle;\n",
              "    }\n",
              "\n",
              "    .dataframe tbody tr th {\n",
              "        vertical-align: top;\n",
              "    }\n",
              "\n",
              "    .dataframe thead th {\n",
              "        text-align: right;\n",
              "    }\n",
              "</style>\n",
              "<table border=\"1\" class=\"dataframe\">\n",
              "  <thead>\n",
              "    <tr style=\"text-align: right;\">\n",
              "      <th></th>\n",
              "      <th>departure_point</th>\n",
              "      <th>arrival_point</th>\n",
              "    </tr>\n",
              "  </thead>\n",
              "  <tbody>\n",
              "    <tr>\n",
              "      <th>0</th>\n",
              "      <td>aligor</td>\n",
              "      <td>serik</td>\n",
              "    </tr>\n",
              "    <tr>\n",
              "      <th>1</th>\n",
              "      <td>acigol</td>\n",
              "      <td>istanbul</td>\n",
              "    </tr>\n",
              "    <tr>\n",
              "      <th>2</th>\n",
              "      <td>acigol</td>\n",
              "      <td>istanbul</td>\n",
              "    </tr>\n",
              "    <tr>\n",
              "      <th>3</th>\n",
              "      <td>acigol</td>\n",
              "      <td>istanbul</td>\n",
              "    </tr>\n",
              "    <tr>\n",
              "      <th>4</th>\n",
              "      <td>acigol</td>\n",
              "      <td>istanbul</td>\n",
              "    </tr>\n",
              "    <tr>\n",
              "      <th>...</th>\n",
              "      <td>...</td>\n",
              "      <td>...</td>\n",
              "    </tr>\n",
              "    <tr>\n",
              "      <th>99917</th>\n",
              "      <td>yozgat</td>\n",
              "      <td>antalya</td>\n",
              "    </tr>\n",
              "    <tr>\n",
              "      <th>99918</th>\n",
              "      <td>yozgat</td>\n",
              "      <td>istanbul</td>\n",
              "    </tr>\n",
              "    <tr>\n",
              "      <th>99919</th>\n",
              "      <td>yozgat</td>\n",
              "      <td>gaziantep</td>\n",
              "    </tr>\n",
              "    <tr>\n",
              "      <th>99920</th>\n",
              "      <td>zonguldak</td>\n",
              "      <td>istanbul</td>\n",
              "    </tr>\n",
              "    <tr>\n",
              "      <th>99921</th>\n",
              "      <td>zonguldak</td>\n",
              "      <td>istanbul</td>\n",
              "    </tr>\n",
              "  </tbody>\n",
              "</table>\n",
              "<p>99922 rows × 2 columns</p>\n",
              "</div>\n",
              "      <button class=\"colab-df-convert\" onclick=\"convertToInteractive('df-d9d03e1b-8445-4577-9d02-e5f784cd1a11')\"\n",
              "              title=\"Convert this dataframe to an interactive table.\"\n",
              "              style=\"display:none;\">\n",
              "        \n",
              "  <svg xmlns=\"http://www.w3.org/2000/svg\" height=\"24px\"viewBox=\"0 0 24 24\"\n",
              "       width=\"24px\">\n",
              "    <path d=\"M0 0h24v24H0V0z\" fill=\"none\"/>\n",
              "    <path d=\"M18.56 5.44l.94 2.06.94-2.06 2.06-.94-2.06-.94-.94-2.06-.94 2.06-2.06.94zm-11 1L8.5 8.5l.94-2.06 2.06-.94-2.06-.94L8.5 2.5l-.94 2.06-2.06.94zm10 10l.94 2.06.94-2.06 2.06-.94-2.06-.94-.94-2.06-.94 2.06-2.06.94z\"/><path d=\"M17.41 7.96l-1.37-1.37c-.4-.4-.92-.59-1.43-.59-.52 0-1.04.2-1.43.59L10.3 9.45l-7.72 7.72c-.78.78-.78 2.05 0 2.83L4 21.41c.39.39.9.59 1.41.59.51 0 1.02-.2 1.41-.59l7.78-7.78 2.81-2.81c.8-.78.8-2.07 0-2.86zM5.41 20L4 18.59l7.72-7.72 1.47 1.35L5.41 20z\"/>\n",
              "  </svg>\n",
              "      </button>\n",
              "      \n",
              "  <style>\n",
              "    .colab-df-container {\n",
              "      display:flex;\n",
              "      flex-wrap:wrap;\n",
              "      gap: 12px;\n",
              "    }\n",
              "\n",
              "    .colab-df-convert {\n",
              "      background-color: #E8F0FE;\n",
              "      border: none;\n",
              "      border-radius: 50%;\n",
              "      cursor: pointer;\n",
              "      display: none;\n",
              "      fill: #1967D2;\n",
              "      height: 32px;\n",
              "      padding: 0 0 0 0;\n",
              "      width: 32px;\n",
              "    }\n",
              "\n",
              "    .colab-df-convert:hover {\n",
              "      background-color: #E2EBFA;\n",
              "      box-shadow: 0px 1px 2px rgba(60, 64, 67, 0.3), 0px 1px 3px 1px rgba(60, 64, 67, 0.15);\n",
              "      fill: #174EA6;\n",
              "    }\n",
              "\n",
              "    [theme=dark] .colab-df-convert {\n",
              "      background-color: #3B4455;\n",
              "      fill: #D2E3FC;\n",
              "    }\n",
              "\n",
              "    [theme=dark] .colab-df-convert:hover {\n",
              "      background-color: #434B5C;\n",
              "      box-shadow: 0px 1px 3px 1px rgba(0, 0, 0, 0.15);\n",
              "      filter: drop-shadow(0px 1px 2px rgba(0, 0, 0, 0.3));\n",
              "      fill: #FFFFFF;\n",
              "    }\n",
              "  </style>\n",
              "\n",
              "      <script>\n",
              "        const buttonEl =\n",
              "          document.querySelector('#df-d9d03e1b-8445-4577-9d02-e5f784cd1a11 button.colab-df-convert');\n",
              "        buttonEl.style.display =\n",
              "          google.colab.kernel.accessAllowed ? 'block' : 'none';\n",
              "\n",
              "        async function convertToInteractive(key) {\n",
              "          const element = document.querySelector('#df-d9d03e1b-8445-4577-9d02-e5f784cd1a11');\n",
              "          const dataTable =\n",
              "            await google.colab.kernel.invokeFunction('convertToInteractive',\n",
              "                                                     [key], {});\n",
              "          if (!dataTable) return;\n",
              "\n",
              "          const docLinkHtml = 'Like what you see? Visit the ' +\n",
              "            '<a target=\"_blank\" href=https://colab.research.google.com/notebooks/data_table.ipynb>data table notebook</a>'\n",
              "            + ' to learn more about interactive tables.';\n",
              "          element.innerHTML = '';\n",
              "          dataTable['output_type'] = 'display_data';\n",
              "          await google.colab.output.renderOutput(dataTable, element);\n",
              "          const docLink = document.createElement('div');\n",
              "          docLink.innerHTML = docLinkHtml;\n",
              "          element.appendChild(docLink);\n",
              "        }\n",
              "      </script>\n",
              "    </div>\n",
              "  </div>\n",
              "  "
            ]
          },
          "metadata": {},
          "execution_count": 9
        }
      ]
    },
    {
      "cell_type": "markdown",
      "metadata": {
        "id": "5WLWFFuPalSP"
      },
      "source": [
        "Based on the data obtained from the bar graph above, the most popular area based on analysis of departure and arrival point across Istanbul, the route of Kayseri-ankara is the most preferrable route."
      ]
    },
    {
      "cell_type": "code",
      "execution_count": 10,
      "metadata": {
        "colab": {
          "base_uri": "https://localhost:8080/"
        },
        "id": "OUT7xD6CalSP",
        "outputId": "321e2d11-9481-4532-e5ac-dc1bd5c115b4"
      },
      "outputs": [
        {
          "output_type": "stream",
          "name": "stdout",
          "text": [
            "The most popular of routes amongst both genders is: ('ankara', 'istanbul')\n"
          ]
        }
      ],
      "source": [
        "print(\"The most popular of routes amongst both genders is:\",travel.value_counts([\"departure_point\",\"arrival_point\"]).idxmax())"
      ]
    },
    {
      "cell_type": "code",
      "execution_count": 11,
      "metadata": {
        "colab": {
          "base_uri": "https://localhost:8080/"
        },
        "id": "Iu9huAjaalSQ",
        "outputId": "32224aed-e727-4c31-c4ec-07b3551d0bfc"
      },
      "outputs": [
        {
          "output_type": "stream",
          "name": "stdout",
          "text": [
            "The least popular of routes amongst both genders is: ('susurluk', 'ankara')\n"
          ]
        }
      ],
      "source": [
        "print(\"The least popular of routes amongst both genders is:\",travel.value_counts([\"departure_point\",\"arrival_point\"]).idxmin())"
      ]
    },
    {
      "cell_type": "markdown",
      "metadata": {
        "id": "E7BWRnQkpn-b"
      },
      "source": [
        "\n",
        "# **2.Companies that are preferred most frequently**"
      ]
    },
    {
      "cell_type": "code",
      "execution_count": 12,
      "metadata": {
        "colab": {
          "base_uri": "https://localhost:8080/",
          "height": 265
        },
        "id": "u3JQ5mqO6SrJ",
        "outputId": "96a640bb-e37c-427c-ce32-5d766d6dace6"
      },
      "outputs": [
        {
          "output_type": "display_data",
          "data": {
            "text/plain": [
              "<Figure size 432x288 with 1 Axes>"
            ],
            "image/png": "[encoded data removed]"
          },
          "metadata": {
            "needs_background": "light"
          }
        }
      ],
      "source": [
        "travel['ï»¿travel_company'].value_counts()[:10].plot(kind='barh');"
      ]
    },
    {
      "cell_type": "markdown",
      "metadata": {
        "id": "dcup_npsalSR"
      },
      "source": [
        "The best travel company choice amongst both seat states(man/woman) is 105"
      ]
    },
    {
      "cell_type": "code",
      "execution_count": 13,
      "metadata": {
        "id": "k7flUs7PalSR",
        "outputId": "44a10976-eaf8-403a-cd18-7061a34662e3",
        "colab": {
          "base_uri": "https://localhost:8080/"
        }
      },
      "outputs": [
        {
          "output_type": "stream",
          "name": "stdout",
          "text": [
            "The most preferred company for travel by both genders is 105\n"
          ]
        }
      ],
      "source": [
        "print('The most preferred company for travel by both genders is',travel['ï»¿travel_company'].value_counts().idxmax())"
      ]
    },
    {
      "cell_type": "code",
      "execution_count": 14,
      "metadata": {
        "id": "Bu0L0tH6alSR",
        "outputId": "7226a0ea-b9e4-4d5e-a81d-5a2d7beb4939",
        "colab": {
          "base_uri": "https://localhost:8080/"
        }
      },
      "outputs": [
        {
          "output_type": "stream",
          "name": "stdout",
          "text": [
            "The least preferred company for travel by both genders is 1330\n"
          ]
        }
      ],
      "source": [
        "print('The least preferred company for travel by both genders is',travel['ï»¿travel_company'].value_counts().idxmin())"
      ]
    },
    {
      "cell_type": "markdown",
      "metadata": {
        "id": "DUtP1cukJS3u"
      },
      "source": [
        "# **2. (a) Travel routes that are purchased most frequently (men vs women)\n"
      ]
    },
    {
      "cell_type": "code",
      "execution_count": 15,
      "metadata": {
        "scrolled": true,
        "id": "yE2hmhlKalSS",
        "outputId": "4438e910-8d44-487d-fbeb-8f7e7105d570",
        "colab": {
          "base_uri": "https://localhost:8080/",
          "height": 265
        }
      },
      "outputs": [
        {
          "output_type": "display_data",
          "data": {
            "text/plain": [
              "<Figure size 432x288 with 1 Axes>"
            ],
            "image/png": "[encoded data removed]"
          },
          "metadata": {
            "needs_background": "light"
          }
        }
      ],
      "source": [
        "travel[(['ï»¿travel_company','seat_state'])].value_counts()[:10].plot(kind='barh');"
      ]
    },
    {
      "cell_type": "markdown",
      "metadata": {
        "id": "jp5aEeAqalSU"
      },
      "source": [
        "As per the graph analysis,the most preferred company choice by seat state (man) is 105 with the most preferred by seat state (woman) is 476. "
      ]
    },
    {
      "cell_type": "markdown",
      "source": [
        "# **2. (b) Most popular months travelled by seat state (Gender)**"
      ],
      "metadata": {
        "id": "m03T6AO6haab"
      }
    },
    {
      "cell_type": "code",
      "execution_count": 16,
      "metadata": {
        "id": "kFhm9SLNalSS",
        "outputId": "015041ea-32a2-424d-c1f1-a0d66440dca3",
        "colab": {
          "base_uri": "https://localhost:8080/",
          "height": 421
        }
      },
      "outputs": [
        {
          "output_type": "display_data",
          "data": {
            "text/plain": [
              "<Figure size 864x360 with 1 Axes>"
            ],
            "image/png": "[encoded data removed]"
          },
          "metadata": {
            "needs_background": "light"
          }
        }
      ],
      "source": [
        "fig, ax = plt.subplots(figsize=(12, 5))\n",
        "plt. title(\"Travel months per seat_state(Gender)\", fontsize=10)\n",
        "plt. ylabel (\"Number of customers\", fontsize=10)\n",
        "travel.groupby([ \"months\", \"seat_state\"]) .size().unstack( \"seat_state\").sort_values (ascending=False, by=\"man\") .plot(kind=\"bar\",ax=ax, fontsize=15)\n",
        "plt. xlabel (\"months\", fontsize=10)\n",
        "plt. show( )"
      ]
    },
    {
      "cell_type": "markdown",
      "metadata": {
        "id": "3J18xFW1alST"
      },
      "source": [
        "The month with the highest number of men travelling is August with the lowest being December\n",
        "The month with the highest number of women travelling is June"
      ]
    },
    {
      "cell_type": "markdown",
      "source": [
        "# 2. (c) Most travelled routes by seat state (Gender)\n",
        "\n",
        "This will see a creation of a new column routes which combines both departure point and arrival point"
      ],
      "metadata": {
        "id": "7d9CDRbUhvqV"
      }
    },
    {
      "cell_type": "markdown",
      "source": [
        "**Create a new column route to assist in identifying popular routes** "
      ],
      "metadata": {
        "id": "xAdLT0tbkwm4"
      }
    },
    {
      "cell_type": "code",
      "source": [
        "travel[\"route\"] = travel[\"departure_point\"] + \"-\" + travel[\"arrival_point\"]#combines both departure point and arrival point"
      ],
      "metadata": {
        "id": "hTipiAv5kvz5"
      },
      "execution_count": 17,
      "outputs": []
    },
    {
      "cell_type": "code",
      "source": [
        "travel.tail()#confirm the column route has been added to the travel data frame"
      ],
      "metadata": {
        "colab": {
          "base_uri": "https://localhost:8080/",
          "height": 353
        },
        "id": "0SqbRgpUlDae",
        "outputId": "017b3577-3ca3-48bc-c683-8bb829020e64"
      },
      "execution_count": 18,
      "outputs": [
        {
          "output_type": "execute_result",
          "data": {
            "text/plain": [
              "       ï»¿travel_company  local_time    months traveller_type office_location  \\\n",
              "99917                112  18/12/2014  December         normal          yozgat   \n",
              "99918                322  18/12/2014  December         normal        internet   \n",
              "99919                476  29/12/2014  December         normal          yozgat   \n",
              "99920                105  01/12/2014  December         normal       zonguldak   \n",
              "99921                105  01/12/2014  December         normal       zonguldak   \n",
              "\n",
              "      departure_point arrival_point seat_state transaction_details  seat_no  \\\n",
              "99917          yozgat       antalya        man             04:31.0       44   \n",
              "99918          yozgat      istanbul      woman             25:17.0       35   \n",
              "99919          yozgat     gaziantep        man             02:24.0       32   \n",
              "99920       zonguldak      istanbul      woman             29:55.0        5   \n",
              "99921       zonguldak      istanbul      woman             29:55.0        6   \n",
              "\n",
              "       ticket_price         travel_type  \\\n",
              "99917          59.0  stops_in_rest_area   \n",
              "99918          65.0  stops_in_rest_area   \n",
              "99919          50.0  stops_in_rest_area   \n",
              "99920          45.0  stops_in_rest_area   \n",
              "99921          45.0  stops_in_rest_area   \n",
              "\n",
              "       no_ticket_purchased_other_customers_same_vehicle               route  \n",
              "99917                                                49      yozgat-antalya  \n",
              "99918                                                47     yozgat-istanbul  \n",
              "99919                                                58    yozgat-gaziantep  \n",
              "99920                                                28  zonguldak-istanbul  \n",
              "99921                                                28  zonguldak-istanbul  "
            ],
            "text/html": [
              "\n",
              "  <div id=\"df-f7f386a9-2475-40a0-95bb-8398d25d6982\">\n",
              "    <div class=\"colab-df-container\">\n",
              "      <div>\n",
              "<style scoped>\n",
              "    .dataframe tbody tr th:only-of-type {\n",
              "        vertical-align: middle;\n",
              "    }\n",
              "\n",
              "    .dataframe tbody tr th {\n",
              "        vertical-align: top;\n",
              "    }\n",
              "\n",
              "    .dataframe thead th {\n",
              "        text-align: right;\n",
              "    }\n",
              "</style>\n",
              "<table border=\"1\" class=\"dataframe\">\n",
              "  <thead>\n",
              "    <tr style=\"text-align: right;\">\n",
              "      <th></th>\n",
              "      <th>ï»¿travel_company</th>\n",
              "      <th>local_time</th>\n",
              "      <th>months</th>\n",
              "      <th>traveller_type</th>\n",
              "      <th>office_location</th>\n",
              "      <th>departure_point</th>\n",
              "      <th>arrival_point</th>\n",
              "      <th>seat_state</th>\n",
              "      <th>transaction_details</th>\n",
              "      <th>seat_no</th>\n",
              "      <th>ticket_price</th>\n",
              "      <th>travel_type</th>\n",
              "      <th>no_ticket_purchased_other_customers_same_vehicle</th>\n",
              "      <th>route</th>\n",
              "    </tr>\n",
              "  </thead>\n",
              "  <tbody>\n",
              "    <tr>\n",
              "      <th>99917</th>\n",
              "      <td>112</td>\n",
              "      <td>18/12/2014</td>\n",
              "      <td>December</td>\n",
              "      <td>normal</td>\n",
              "      <td>yozgat</td>\n",
              "      <td>yozgat</td>\n",
              "      <td>antalya</td>\n",
              "      <td>man</td>\n",
              "      <td>04:31.0</td>\n",
              "      <td>44</td>\n",
              "      <td>59.0</td>\n",
              "      <td>stops_in_rest_area</td>\n",
              "      <td>49</td>\n",
              "      <td>yozgat-antalya</td>\n",
              "    </tr>\n",
              "    <tr>\n",
              "      <th>99918</th>\n",
              "      <td>322</td>\n",
              "      <td>18/12/2014</td>\n",
              "      <td>December</td>\n",
              "      <td>normal</td>\n",
              "      <td>internet</td>\n",
              "      <td>yozgat</td>\n",
              "      <td>istanbul</td>\n",
              "      <td>woman</td>\n",
              "      <td>25:17.0</td>\n",
              "      <td>35</td>\n",
              "      <td>65.0</td>\n",
              "      <td>stops_in_rest_area</td>\n",
              "      <td>47</td>\n",
              "      <td>yozgat-istanbul</td>\n",
              "    </tr>\n",
              "    <tr>\n",
              "      <th>99919</th>\n",
              "      <td>476</td>\n",
              "      <td>29/12/2014</td>\n",
              "      <td>December</td>\n",
              "      <td>normal</td>\n",
              "      <td>yozgat</td>\n",
              "      <td>yozgat</td>\n",
              "      <td>gaziantep</td>\n",
              "      <td>man</td>\n",
              "      <td>02:24.0</td>\n",
              "      <td>32</td>\n",
              "      <td>50.0</td>\n",
              "      <td>stops_in_rest_area</td>\n",
              "      <td>58</td>\n",
              "      <td>yozgat-gaziantep</td>\n",
              "    </tr>\n",
              "    <tr>\n",
              "      <th>99920</th>\n",
              "      <td>105</td>\n",
              "      <td>01/12/2014</td>\n",
              "      <td>December</td>\n",
              "      <td>normal</td>\n",
              "      <td>zonguldak</td>\n",
              "      <td>zonguldak</td>\n",
              "      <td>istanbul</td>\n",
              "      <td>woman</td>\n",
              "      <td>29:55.0</td>\n",
              "      <td>5</td>\n",
              "      <td>45.0</td>\n",
              "      <td>stops_in_rest_area</td>\n",
              "      <td>28</td>\n",
              "      <td>zonguldak-istanbul</td>\n",
              "    </tr>\n",
              "    <tr>\n",
              "      <th>99921</th>\n",
              "      <td>105</td>\n",
              "      <td>01/12/2014</td>\n",
              "      <td>December</td>\n",
              "      <td>normal</td>\n",
              "      <td>zonguldak</td>\n",
              "      <td>zonguldak</td>\n",
              "      <td>istanbul</td>\n",
              "      <td>woman</td>\n",
              "      <td>29:55.0</td>\n",
              "      <td>6</td>\n",
              "      <td>45.0</td>\n",
              "      <td>stops_in_rest_area</td>\n",
              "      <td>28</td>\n",
              "      <td>zonguldak-istanbul</td>\n",
              "    </tr>\n",
              "  </tbody>\n",
              "</table>\n",
              "</div>\n",
              "      <button class=\"colab-df-convert\" onclick=\"convertToInteractive('df-f7f386a9-2475-40a0-95bb-8398d25d6982')\"\n",
              "              title=\"Convert this dataframe to an interactive table.\"\n",
              "              style=\"display:none;\">\n",
              "        \n",
              "  <svg xmlns=\"http://www.w3.org/2000/svg\" height=\"24px\"viewBox=\"0 0 24 24\"\n",
              "       width=\"24px\">\n",
              "    <path d=\"M0 0h24v24H0V0z\" fill=\"none\"/>\n",
              "    <path d=\"M18.56 5.44l.94 2.06.94-2.06 2.06-.94-2.06-.94-.94-2.06-.94 2.06-2.06.94zm-11 1L8.5 8.5l.94-2.06 2.06-.94-2.06-.94L8.5 2.5l-.94 2.06-2.06.94zm10 10l.94 2.06.94-2.06 2.06-.94-2.06-.94-.94-2.06-.94 2.06-2.06.94z\"/><path d=\"M17.41 7.96l-1.37-1.37c-.4-.4-.92-.59-1.43-.59-.52 0-1.04.2-1.43.59L10.3 9.45l-7.72 7.72c-.78.78-.78 2.05 0 2.83L4 21.41c.39.39.9.59 1.41.59.51 0 1.02-.2 1.41-.59l7.78-7.78 2.81-2.81c.8-.78.8-2.07 0-2.86zM5.41 20L4 18.59l7.72-7.72 1.47 1.35L5.41 20z\"/>\n",
              "  </svg>\n",
              "      </button>\n",
              "      \n",
              "  <style>\n",
              "    .colab-df-container {\n",
              "      display:flex;\n",
              "      flex-wrap:wrap;\n",
              "      gap: 12px;\n",
              "    }\n",
              "\n",
              "    .colab-df-convert {\n",
              "      background-color: #E8F0FE;\n",
              "      border: none;\n",
              "      border-radius: 50%;\n",
              "      cursor: pointer;\n",
              "      display: none;\n",
              "      fill: #1967D2;\n",
              "      height: 32px;\n",
              "      padding: 0 0 0 0;\n",
              "      width: 32px;\n",
              "    }\n",
              "\n",
              "    .colab-df-convert:hover {\n",
              "      background-color: #E2EBFA;\n",
              "      box-shadow: 0px 1px 2px rgba(60, 64, 67, 0.3), 0px 1px 3px 1px rgba(60, 64, 67, 0.15);\n",
              "      fill: #174EA6;\n",
              "    }\n",
              "\n",
              "    [theme=dark] .colab-df-convert {\n",
              "      background-color: #3B4455;\n",
              "      fill: #D2E3FC;\n",
              "    }\n",
              "\n",
              "    [theme=dark] .colab-df-convert:hover {\n",
              "      background-color: #434B5C;\n",
              "      box-shadow: 0px 1px 3px 1px rgba(0, 0, 0, 0.15);\n",
              "      filter: drop-shadow(0px 1px 2px rgba(0, 0, 0, 0.3));\n",
              "      fill: #FFFFFF;\n",
              "    }\n",
              "  </style>\n",
              "\n",
              "      <script>\n",
              "        const buttonEl =\n",
              "          document.querySelector('#df-f7f386a9-2475-40a0-95bb-8398d25d6982 button.colab-df-convert');\n",
              "        buttonEl.style.display =\n",
              "          google.colab.kernel.accessAllowed ? 'block' : 'none';\n",
              "\n",
              "        async function convertToInteractive(key) {\n",
              "          const element = document.querySelector('#df-f7f386a9-2475-40a0-95bb-8398d25d6982');\n",
              "          const dataTable =\n",
              "            await google.colab.kernel.invokeFunction('convertToInteractive',\n",
              "                                                     [key], {});\n",
              "          if (!dataTable) return;\n",
              "\n",
              "          const docLinkHtml = 'Like what you see? Visit the ' +\n",
              "            '<a target=\"_blank\" href=https://colab.research.google.com/notebooks/data_table.ipynb>data table notebook</a>'\n",
              "            + ' to learn more about interactive tables.';\n",
              "          element.innerHTML = '';\n",
              "          dataTable['output_type'] = 'display_data';\n",
              "          await google.colab.output.renderOutput(dataTable, element);\n",
              "          const docLink = document.createElement('div');\n",
              "          docLink.innerHTML = docLinkHtml;\n",
              "          element.appendChild(docLink);\n",
              "        }\n",
              "      </script>\n",
              "    </div>\n",
              "  </div>\n",
              "  "
            ]
          },
          "metadata": {},
          "execution_count": 18
        }
      ]
    },
    {
      "cell_type": "code",
      "execution_count": 19,
      "metadata": {
        "id": "Z2ZkJQKJalST",
        "outputId": "abe7641a-9d16-4978-87cc-43ae233f4531",
        "colab": {
          "base_uri": "https://localhost:8080/",
          "height": 425
        }
      },
      "outputs": [
        {
          "output_type": "display_data",
          "data": {
            "text/plain": [
              "<Figure size 1080x360 with 1 Axes>"
            ],
            "image/png": "[encoded data removed]"
          },
          "metadata": {
            "needs_background": "light"
          }
        }
      ],
      "source": [
        "fig, ax = plt.subplots(figsize=(15, 5))\n",
        "plt.title(\"Travel routes by seat state (Gender)\",fontsize=10)\n",
        "plt.ylabel(\"Number of customers\",fontsize=10)\n",
        "travel.groupby([\"route\",\"seat_state\"]).size().unstack(\"seat_state\").sort_values(ascending=False,by=\"man\")[:10].plot(kind=\"bar\",ax=ax,fontsize=10)#groups by route and seat state(gender)\n",
        "plt.xlabel(\"Routes\",fontsize=10)\n",
        "plt.show()"
      ]
    },
    {
      "cell_type": "code",
      "source": [
        "travel.head()"
      ],
      "metadata": {
        "colab": {
          "base_uri": "https://localhost:8080/",
          "height": 353
        },
        "id": "3BBdTxM-kYID",
        "outputId": "9616a225-6925-4b03-f5cd-5ca4e946e393"
      },
      "execution_count": 20,
      "outputs": [
        {
          "output_type": "execute_result",
          "data": {
            "text/plain": [
              "   ï»¿travel_company  local_time   months traveller_type    office_location  \\\n",
              "0                343  21/01/2014  January         normal  11-nisan (aligor)   \n",
              "1                476  23/01/2012  January         normal             acigol   \n",
              "2                476  20/01/2015  January         normal             acigol   \n",
              "3                476  20/01/2015  January         normal             acigol   \n",
              "4                476  20/01/2015  January         normal             acigol   \n",
              "\n",
              "  departure_point arrival_point seat_state transaction_details  seat_no  \\\n",
              "0          aligor         serik        man             30:05.0        3   \n",
              "1          acigol      istanbul        man             41:40.0       49   \n",
              "2          acigol      istanbul        man             37:40.0       35   \n",
              "3          acigol      istanbul        man             37:40.0       36   \n",
              "4          acigol      istanbul        man             36:53.0       38   \n",
              "\n",
              "   ticket_price         travel_type  \\\n",
              "0          70.0  stops_in_rest_area   \n",
              "1          50.0  stops_in_rest_area   \n",
              "2          50.0  stops_in_rest_area   \n",
              "3          50.0  stops_in_rest_area   \n",
              "4          50.0  stops_in_rest_area   \n",
              "\n",
              "   no_ticket_purchased_other_customers_same_vehicle            route  \n",
              "0                                                52     aligor-serik  \n",
              "1                                                53  acigol-istanbul  \n",
              "2                                                48  acigol-istanbul  \n",
              "3                                                48  acigol-istanbul  \n",
              "4                                                48  acigol-istanbul  "
            ],
            "text/html": [
              "\n",
              "  <div id=\"df-94336fde-ab41-4f92-b80e-852ef85de324\">\n",
              "    <div class=\"colab-df-container\">\n",
              "      <div>\n",
              "<style scoped>\n",
              "    .dataframe tbody tr th:only-of-type {\n",
              "        vertical-align: middle;\n",
              "    }\n",
              "\n",
              "    .dataframe tbody tr th {\n",
              "        vertical-align: top;\n",
              "    }\n",
              "\n",
              "    .dataframe thead th {\n",
              "        text-align: right;\n",
              "    }\n",
              "</style>\n",
              "<table border=\"1\" class=\"dataframe\">\n",
              "  <thead>\n",
              "    <tr style=\"text-align: right;\">\n",
              "      <th></th>\n",
              "      <th>ï»¿travel_company</th>\n",
              "      <th>local_time</th>\n",
              "      <th>months</th>\n",
              "      <th>traveller_type</th>\n",
              "      <th>office_location</th>\n",
              "      <th>departure_point</th>\n",
              "      <th>arrival_point</th>\n",
              "      <th>seat_state</th>\n",
              "      <th>transaction_details</th>\n",
              "      <th>seat_no</th>\n",
              "      <th>ticket_price</th>\n",
              "      <th>travel_type</th>\n",
              "      <th>no_ticket_purchased_other_customers_same_vehicle</th>\n",
              "      <th>route</th>\n",
              "    </tr>\n",
              "  </thead>\n",
              "  <tbody>\n",
              "    <tr>\n",
              "      <th>0</th>\n",
              "      <td>343</td>\n",
              "      <td>21/01/2014</td>\n",
              "      <td>January</td>\n",
              "      <td>normal</td>\n",
              "      <td>11-nisan (aligor)</td>\n",
              "      <td>aligor</td>\n",
              "      <td>serik</td>\n",
              "      <td>man</td>\n",
              "      <td>30:05.0</td>\n",
              "      <td>3</td>\n",
              "      <td>70.0</td>\n",
              "      <td>stops_in_rest_area</td>\n",
              "      <td>52</td>\n",
              "      <td>aligor-serik</td>\n",
              "    </tr>\n",
              "    <tr>\n",
              "      <th>1</th>\n",
              "      <td>476</td>\n",
              "      <td>23/01/2012</td>\n",
              "      <td>January</td>\n",
              "      <td>normal</td>\n",
              "      <td>acigol</td>\n",
              "      <td>acigol</td>\n",
              "      <td>istanbul</td>\n",
              "      <td>man</td>\n",
              "      <td>41:40.0</td>\n",
              "      <td>49</td>\n",
              "      <td>50.0</td>\n",
              "      <td>stops_in_rest_area</td>\n",
              "      <td>53</td>\n",
              "      <td>acigol-istanbul</td>\n",
              "    </tr>\n",
              "    <tr>\n",
              "      <th>2</th>\n",
              "      <td>476</td>\n",
              "      <td>20/01/2015</td>\n",
              "      <td>January</td>\n",
              "      <td>normal</td>\n",
              "      <td>acigol</td>\n",
              "      <td>acigol</td>\n",
              "      <td>istanbul</td>\n",
              "      <td>man</td>\n",
              "      <td>37:40.0</td>\n",
              "      <td>35</td>\n",
              "      <td>50.0</td>\n",
              "      <td>stops_in_rest_area</td>\n",
              "      <td>48</td>\n",
              "      <td>acigol-istanbul</td>\n",
              "    </tr>\n",
              "    <tr>\n",
              "      <th>3</th>\n",
              "      <td>476</td>\n",
              "      <td>20/01/2015</td>\n",
              "      <td>January</td>\n",
              "      <td>normal</td>\n",
              "      <td>acigol</td>\n",
              "      <td>acigol</td>\n",
              "      <td>istanbul</td>\n",
              "      <td>man</td>\n",
              "      <td>37:40.0</td>\n",
              "      <td>36</td>\n",
              "      <td>50.0</td>\n",
              "      <td>stops_in_rest_area</td>\n",
              "      <td>48</td>\n",
              "      <td>acigol-istanbul</td>\n",
              "    </tr>\n",
              "    <tr>\n",
              "      <th>4</th>\n",
              "      <td>476</td>\n",
              "      <td>20/01/2015</td>\n",
              "      <td>January</td>\n",
              "      <td>normal</td>\n",
              "      <td>acigol</td>\n",
              "      <td>acigol</td>\n",
              "      <td>istanbul</td>\n",
              "      <td>man</td>\n",
              "      <td>36:53.0</td>\n",
              "      <td>38</td>\n",
              "      <td>50.0</td>\n",
              "      <td>stops_in_rest_area</td>\n",
              "      <td>48</td>\n",
              "      <td>acigol-istanbul</td>\n",
              "    </tr>\n",
              "  </tbody>\n",
              "</table>\n",
              "</div>\n",
              "      <button class=\"colab-df-convert\" onclick=\"convertToInteractive('df-94336fde-ab41-4f92-b80e-852ef85de324')\"\n",
              "              title=\"Convert this dataframe to an interactive table.\"\n",
              "              style=\"display:none;\">\n",
              "        \n",
              "  <svg xmlns=\"http://www.w3.org/2000/svg\" height=\"24px\"viewBox=\"0 0 24 24\"\n",
              "       width=\"24px\">\n",
              "    <path d=\"M0 0h24v24H0V0z\" fill=\"none\"/>\n",
              "    <path d=\"M18.56 5.44l.94 2.06.94-2.06 2.06-.94-2.06-.94-.94-2.06-.94 2.06-2.06.94zm-11 1L8.5 8.5l.94-2.06 2.06-.94-2.06-.94L8.5 2.5l-.94 2.06-2.06.94zm10 10l.94 2.06.94-2.06 2.06-.94-2.06-.94-.94-2.06-.94 2.06-2.06.94z\"/><path d=\"M17.41 7.96l-1.37-1.37c-.4-.4-.92-.59-1.43-.59-.52 0-1.04.2-1.43.59L10.3 9.45l-7.72 7.72c-.78.78-.78 2.05 0 2.83L4 21.41c.39.39.9.59 1.41.59.51 0 1.02-.2 1.41-.59l7.78-7.78 2.81-2.81c.8-.78.8-2.07 0-2.86zM5.41 20L4 18.59l7.72-7.72 1.47 1.35L5.41 20z\"/>\n",
              "  </svg>\n",
              "      </button>\n",
              "      \n",
              "  <style>\n",
              "    .colab-df-container {\n",
              "      display:flex;\n",
              "      flex-wrap:wrap;\n",
              "      gap: 12px;\n",
              "    }\n",
              "\n",
              "    .colab-df-convert {\n",
              "      background-color: #E8F0FE;\n",
              "      border: none;\n",
              "      border-radius: 50%;\n",
              "      cursor: pointer;\n",
              "      display: none;\n",
              "      fill: #1967D2;\n",
              "      height: 32px;\n",
              "      padding: 0 0 0 0;\n",
              "      width: 32px;\n",
              "    }\n",
              "\n",
              "    .colab-df-convert:hover {\n",
              "      background-color: #E2EBFA;\n",
              "      box-shadow: 0px 1px 2px rgba(60, 64, 67, 0.3), 0px 1px 3px 1px rgba(60, 64, 67, 0.15);\n",
              "      fill: #174EA6;\n",
              "    }\n",
              "\n",
              "    [theme=dark] .colab-df-convert {\n",
              "      background-color: #3B4455;\n",
              "      fill: #D2E3FC;\n",
              "    }\n",
              "\n",
              "    [theme=dark] .colab-df-convert:hover {\n",
              "      background-color: #434B5C;\n",
              "      box-shadow: 0px 1px 3px 1px rgba(0, 0, 0, 0.15);\n",
              "      filter: drop-shadow(0px 1px 2px rgba(0, 0, 0, 0.3));\n",
              "      fill: #FFFFFF;\n",
              "    }\n",
              "  </style>\n",
              "\n",
              "      <script>\n",
              "        const buttonEl =\n",
              "          document.querySelector('#df-94336fde-ab41-4f92-b80e-852ef85de324 button.colab-df-convert');\n",
              "        buttonEl.style.display =\n",
              "          google.colab.kernel.accessAllowed ? 'block' : 'none';\n",
              "\n",
              "        async function convertToInteractive(key) {\n",
              "          const element = document.querySelector('#df-94336fde-ab41-4f92-b80e-852ef85de324');\n",
              "          const dataTable =\n",
              "            await google.colab.kernel.invokeFunction('convertToInteractive',\n",
              "                                                     [key], {});\n",
              "          if (!dataTable) return;\n",
              "\n",
              "          const docLinkHtml = 'Like what you see? Visit the ' +\n",
              "            '<a target=\"_blank\" href=https://colab.research.google.com/notebooks/data_table.ipynb>data table notebook</a>'\n",
              "            + ' to learn more about interactive tables.';\n",
              "          element.innerHTML = '';\n",
              "          dataTable['output_type'] = 'display_data';\n",
              "          await google.colab.output.renderOutput(dataTable, element);\n",
              "          const docLink = document.createElement('div');\n",
              "          docLink.innerHTML = docLinkHtml;\n",
              "          element.appendChild(docLink);\n",
              "        }\n",
              "      </script>\n",
              "    </div>\n",
              "  </div>\n",
              "  "
            ]
          },
          "metadata": {},
          "execution_count": 20
        }
      ]
    },
    {
      "cell_type": "code",
      "execution_count": 21,
      "metadata": {
        "id": "_cR4pw_RalST",
        "outputId": "a92d2767-44cc-466f-c5bd-b4a5778051ab",
        "colab": {
          "base_uri": "https://localhost:8080/"
        }
      },
      "outputs": [
        {
          "output_type": "execute_result",
          "data": {
            "text/plain": [
              "seat_state\n",
              "man      ankara-istanbul\n",
              "woman    ankara-istanbul\n",
              "dtype: object"
            ]
          },
          "metadata": {},
          "execution_count": 21
        }
      ],
      "source": [
        "travel.groupby([\"route\",\"seat_state\"]).size().unstack(\"seat_state\").idxmax()"
      ]
    },
    {
      "cell_type": "markdown",
      "metadata": {
        "id": "lfMahUg2q6tz"
      },
      "source": [
        "# 3. Travel routes that are purchased most frequently (normal/student/handicapped)\n",
        "\n",
        "\n"
      ]
    },
    {
      "cell_type": "code",
      "execution_count": 22,
      "metadata": {
        "colab": {
          "base_uri": "https://localhost:8080/"
        },
        "id": "SzOIPxFNrl0k",
        "outputId": "f8e309db-34bf-4cd1-bd03-1d118c8bf89d"
      },
      "outputs": [
        {
          "output_type": "execute_result",
          "data": {
            "text/plain": [
              "normal         99035\n",
              "child            422\n",
              "handicapped      385\n",
              "student           80\n",
              "Name: traveller_type, dtype: int64"
            ]
          },
          "metadata": {},
          "execution_count": 22
        }
      ],
      "source": [
        "#travel.groupby(['arrival_point', 'traveller_type'])['arrival_point'].count().idxmax()\n",
        "\n",
        "travel['traveller_type'].value_counts()"
      ]
    },
    {
      "cell_type": "code",
      "execution_count": 23,
      "metadata": {
        "scrolled": true,
        "id": "Q5fzo4mIalSU",
        "outputId": "1b9e1750-d6b8-4b8f-9dff-fa3c3c816d3f",
        "colab": {
          "base_uri": "https://localhost:8080/",
          "height": 265
        }
      },
      "outputs": [
        {
          "output_type": "display_data",
          "data": {
            "text/plain": [
              "<Figure size 432x288 with 1 Axes>"
            ],
            "image/png": "[encoded data removed]"
          },
          "metadata": {
            "needs_background": "light"
          }
        }
      ],
      "source": [
        "travel[(['departure_point','arrival_point','traveller_type'])].value_counts()[:10].plot(kind='barh');\n"
      ]
    },
    {
      "cell_type": "code",
      "execution_count": 24,
      "metadata": {
        "scrolled": true,
        "id": "g5Arsim5alSV",
        "outputId": "c35c9553-c0c4-49b0-b2be-01d874c36cad",
        "colab": {
          "base_uri": "https://localhost:8080/",
          "height": 427
        }
      },
      "outputs": [
        {
          "output_type": "display_data",
          "data": {
            "text/plain": [
              "<Figure size 1080x360 with 1 Axes>"
            ],
            "image/png": "[encoded data removed]"
          },
          "metadata": {
            "needs_background": "light"
          }
        }
      ],
      "source": [
        "fig, ax = plt.subplots(figsize=(15, 5))\n",
        "plt.title(\"Route per type of travel\",fontsize=10)\n",
        "plt.ylabel(\"Number of customers\",fontsize=10)\n",
        "travel.groupby([\"route\",\"traveller_type\"]).size().unstack().sort_values(ascending=False,by=\"student\")[:10].plot(kind=\"bar\",ax=ax,fontsize=10,logy=True)\n",
        "plt.xlabel(\"Routes\",fontsize=15)\n",
        "plt.show()"
      ]
    },
    {
      "cell_type": "code",
      "execution_count": 25,
      "metadata": {
        "scrolled": true,
        "id": "Clx7UCG0alSV",
        "outputId": "9c650f88-ab1f-49cd-d45d-b3c264f75c2d",
        "colab": {
          "base_uri": "https://localhost:8080/"
        }
      },
      "outputs": [
        {
          "output_type": "execute_result",
          "data": {
            "text/plain": [
              "departure_point  arrival_point  traveller_type\n",
              "ankara           istanbul       normal            894\n",
              "kayseri          ankara         normal            829\n",
              "istanbul         ankara         normal            612\n",
              "ankara           kayseri        normal            595\n",
              "istanbul         ankara         normal            508\n",
              "                                                 ... \n",
              "bandirma         bucak          normal              1\n",
              "kahramanmaras    kutahya        normal              1\n",
              "payas            bozuyuk        normal              1\n",
              "kahramanmaras    keskin         normal              1\n",
              "bursa            bozuyuk        normal              1\n",
              "Length: 9577, dtype: int64"
            ]
          },
          "metadata": {},
          "execution_count": 25
        }
      ],
      "source": [
        "travel[(['departure_point','arrival_point','traveller_type'])].value_counts()"
      ]
    },
    {
      "cell_type": "code",
      "execution_count": 26,
      "metadata": {
        "id": "lowode5DalSV",
        "outputId": "709b009b-ebe5-4efa-c9b7-ed4050b78734",
        "colab": {
          "base_uri": "https://localhost:8080/"
        }
      },
      "outputs": [
        {
          "output_type": "stream",
          "name": "stdout",
          "text": [
            "The most popular route by traveller type is: ('ankara', 'istanbul', 'normal')\n"
          ]
        }
      ],
      "source": [
        "print(\"The most popular route by traveller type is:\",travel[(['departure_point','arrival_point','traveller_type'])].value_counts().idxmax())"
      ]
    },
    {
      "cell_type": "code",
      "execution_count": 27,
      "metadata": {
        "id": "CmIanB8salSW",
        "outputId": "ddcfe4a6-2741-4929-bfb8-12b19dfcbae4",
        "colab": {
          "base_uri": "https://localhost:8080/"
        }
      },
      "outputs": [
        {
          "output_type": "stream",
          "name": "stdout",
          "text": [
            "The most popular route by traveller type is: traveller_type\n",
            "child          ankara-istanbul\n",
            "handicapped    izmir-balikesir\n",
            "normal         ankara-istanbul\n",
            "student        kirsehir-ankara\n",
            "dtype: object\n"
          ]
        }
      ],
      "source": [
        "print(\"The most popular route by traveller type is:\",travel.groupby([\"route\",\"traveller_type\"]).size().unstack(\"traveller_type\").idxmax())"
      ]
    },
    {
      "cell_type": "code",
      "execution_count": 28,
      "metadata": {
        "id": "UDwLUU2DalSW",
        "outputId": "ed914085-b7d9-429b-a843-a937d1426491",
        "colab": {
          "base_uri": "https://localhost:8080/"
        }
      },
      "outputs": [
        {
          "output_type": "stream",
          "name": "stdout",
          "text": [
            "The least popular route by traveller type is: traveller_type\n",
            "child             adana-izmir\n",
            "handicapped    acigol-dudullu\n",
            "normal            37395-corum\n",
            "student          ankara-fatsa\n",
            "dtype: object\n"
          ]
        }
      ],
      "source": [
        "print(\"The least popular route by traveller type is:\",travel.groupby([\"route\",\"traveller_type\"]).size().unstack(\"traveller_type\").idxmin())"
      ]
    },
    {
      "cell_type": "code",
      "execution_count": 29,
      "metadata": {
        "id": "EDUsXFEHalSW",
        "outputId": "41acde8c-8cb3-4d26-bd47-f21c57507cc6",
        "colab": {
          "base_uri": "https://localhost:8080/"
        }
      },
      "outputs": [
        {
          "output_type": "stream",
          "name": "stdout",
          "text": [
            "The least popular route by traveller type is: ('amasya', 'mardin', 'normal')\n"
          ]
        }
      ],
      "source": [
        "print(\"The least popular route by traveller type is:\",travel[(['departure_point','arrival_point','traveller_type'])].value_counts().idxmin())"
      ]
    },
    {
      "cell_type": "code",
      "execution_count": 30,
      "metadata": {
        "id": "L6El0ChLrqU8",
        "scrolled": true
      },
      "outputs": [],
      "source": [
        "#travel.groupby(['arrival_point', 'traveller_type'])['traveller_type'].count()"
      ]
    },
    {
      "cell_type": "markdown",
      "metadata": {
        "id": "ixdjY5onrvGm"
      },
      "source": [
        "**Travel routes that are purchased the least frequently**"
      ]
    },
    {
      "cell_type": "code",
      "execution_count": 31,
      "metadata": {
        "id": "2I1OnPxbalSX",
        "outputId": "ce6b6f53-582f-4c92-ff59-632583b56860",
        "colab": {
          "base_uri": "https://localhost:8080/",
          "height": 314
        }
      },
      "outputs": [
        {
          "output_type": "display_data",
          "data": {
            "text/plain": [
              "<Figure size 432x288 with 1 Axes>"
            ],
            "image/png": "[encoded data removed]"
          },
          "metadata": {
            "needs_background": "light"
          }
        }
      ],
      "source": [
        "travel.groupby(['departure_point','arrival_point', 'traveller_type'])['arrival_point'].value_counts()[:10].plot(kind='barh');"
      ]
    },
    {
      "cell_type": "code",
      "execution_count": 32,
      "metadata": {
        "colab": {
          "base_uri": "https://localhost:8080/"
        },
        "id": "-HVKia9erzvl",
        "outputId": "7262bd27-3bb2-4f8f-8cf9-5b8371c31ae9"
      },
      "outputs": [
        {
          "output_type": "execute_result",
          "data": {
            "text/plain": [
              "('37395', 'corum', 'normal')"
            ]
          },
          "metadata": {},
          "execution_count": 32
        }
      ],
      "source": [
        "travel.groupby(['departure_point','arrival_point', 'traveller_type'])['arrival_point'].count().idxmin()"
      ]
    },
    {
      "cell_type": "markdown",
      "metadata": {
        "id": "JS5I0Ey7r4pa"
      },
      "source": [
        "**4. Travel Company preferred most frequently**"
      ]
    },
    {
      "cell_type": "code",
      "execution_count": 33,
      "metadata": {
        "scrolled": true,
        "id": "8f5DBqZsalSX"
      },
      "outputs": [],
      "source": [
        "#plt.title(\"Travel companies per gender\",fontsize=10)\n",
        "#plt.ylabel(\"Number of customers\",fontsize=10)\n",
        "#travel.groupby(['ï»¿travel_company', 'seat_state'])['seat_state'].count()[:10].plot(kind='barh')\n",
        "#plt.xlabel(\"Travel Company\",fontsize=10)"
      ]
    },
    {
      "cell_type": "code",
      "execution_count": 34,
      "metadata": {
        "id": "DuE9AqKGpQMQ",
        "outputId": "e2e4dabc-0833-475c-8f62-1a68a4e5e4ac",
        "colab": {
          "base_uri": "https://localhost:8080/",
          "height": 381
        }
      },
      "outputs": [
        {
          "output_type": "display_data",
          "data": {
            "text/plain": [
              "<Figure size 720x360 with 1 Axes>"
            ],
            "image/png": "[encoded data removed]"
          },
          "metadata": {
            "needs_background": "light"
          }
        }
      ],
      "source": [
        "fig, ax = plt.subplots(figsize=(10, 5))\n",
        "plt.title(\"Travel companies per gender\",fontsize=10)\n",
        "plt.ylabel(\"Number of customers\",fontsize=10)\n",
        "travel.groupby([\"ï»¿travel_company\",\"seat_state\"]).size().unstack(\"seat_state\").sort_values(ascending=False,by=\"man\")[:10].plot(kind=\"bar\",ax=ax,fontsize=15)\n",
        "plt.xlabel(\"Travel Company\",fontsize=15)\n",
        "plt.show()"
      ]
    },
    {
      "cell_type": "code",
      "execution_count": 35,
      "metadata": {
        "colab": {
          "base_uri": "https://localhost:8080/"
        },
        "id": "8y7zIwI9r95B",
        "outputId": "d3eed064-7def-4e41-e167-ac10e432da4b",
        "scrolled": false
      },
      "outputs": [
        {
          "output_type": "execute_result",
          "data": {
            "text/plain": [
              "(105, 'man')"
            ]
          },
          "metadata": {},
          "execution_count": 35
        }
      ],
      "source": [
        "travel.groupby(['ï»¿travel_company', 'seat_state'])['seat_state'].count().idxmax()"
      ]
    },
    {
      "cell_type": "code",
      "execution_count": 36,
      "metadata": {
        "id": "4-fSjKz5alSZ",
        "outputId": "d3dc4436-d41d-467b-ae7e-555ff63ceb2c",
        "colab": {
          "base_uri": "https://localhost:8080/"
        }
      },
      "outputs": [
        {
          "output_type": "execute_result",
          "data": {
            "text/plain": [
              "seat_state\n",
              "man      105\n",
              "woman    105\n",
              "dtype: int64"
            ]
          },
          "metadata": {},
          "execution_count": 36
        }
      ],
      "source": [
        "travel.groupby([\"ï»¿travel_company\",\"seat_state\"]).size().unstack(\"seat_state\").idxmax()"
      ]
    },
    {
      "cell_type": "code",
      "execution_count": 37,
      "metadata": {
        "id": "S6dbTQaValSZ",
        "colab": {
          "base_uri": "https://localhost:8080/"
        },
        "outputId": "e5ab1f35-ae22-41e4-fe36-79c4bb3458f7"
      },
      "outputs": [
        {
          "output_type": "execute_result",
          "data": {
            "text/plain": [
              "seat_state\n",
              "man      644\n",
              "woman    560\n",
              "dtype: int64"
            ]
          },
          "metadata": {},
          "execution_count": 37
        }
      ],
      "source": [
        "travel.groupby([\"ï»¿travel_company\",\"seat_state\"]).size().unstack(\"seat_state\").idxmin()"
      ]
    },
    {
      "cell_type": "code",
      "execution_count": 38,
      "metadata": {
        "id": "CWHd9BS2alSZ",
        "outputId": "3df6d2ab-1a62-433d-ca4c-73d6715e7d97",
        "colab": {
          "base_uri": "https://localhost:8080/"
        }
      },
      "outputs": [
        {
          "output_type": "execute_result",
          "data": {
            "text/plain": [
              "(560, 'woman')"
            ]
          },
          "metadata": {},
          "execution_count": 38
        }
      ],
      "source": [
        "travel.groupby(['ï»¿travel_company', 'seat_state'])['seat_state'].count().idxmin()"
      ]
    },
    {
      "cell_type": "code",
      "execution_count": 39,
      "metadata": {
        "id": "8EX9TteZmv5v"
      },
      "outputs": [],
      "source": [
        "#frequently_travelled =travel.groupby(['seat_state','traveller_type','local_time']).count()\n",
        "#frequently_travelled.sort_values(by='local_time',ascending = False)"
      ]
    },
    {
      "cell_type": "markdown",
      "metadata": {
        "id": "rO9P-oTsalSa"
      },
      "source": [
        "**Travel on A month by Month basis**"
      ]
    },
    {
      "cell_type": "code",
      "execution_count": 40,
      "metadata": {
        "id": "Ek5FWSt4alSa",
        "colab": {
          "base_uri": "https://localhost:8080/",
          "height": 360
        },
        "outputId": "5cb4322c-0482-4c36-812d-fcf8d6eee8b6"
      },
      "outputs": [
        {
          "output_type": "display_data",
          "data": {
            "text/plain": [
              "<Figure size 720x360 with 1 Axes>"
            ],
            "image/png": "[encoded data removed]"
          },
          "metadata": {
            "needs_background": "light"
          }
        }
      ],
      "source": [
        "fig, ax = plt.subplots(figsize=(10, 5))\n",
        "plt.title(\"Travel per month\",fontsize=15)\n",
        "plt.ylabel(\"Months\",fontsize=15)\n",
        "time=travel[\"months\"].value_counts()\n",
        "time.plot(kind=\"barh\",ax=ax,fontsize=12)\n",
        "plt.xlabel(\"Number of Customers\",fontsize=15)\n",
        "plt.show()"
      ]
    },
    {
      "cell_type": "markdown",
      "metadata": {
        "id": "5noyESuPalSa"
      },
      "source": [
        "**Months preferred by Seat State(Gender)**"
      ]
    },
    {
      "cell_type": "code",
      "execution_count": 41,
      "metadata": {
        "id": "4gfx0_zialSa",
        "colab": {
          "base_uri": "https://localhost:8080/",
          "height": 421
        },
        "outputId": "aa5aa2a4-5cd2-472c-b415-8ab19c069bce"
      },
      "outputs": [
        {
          "output_type": "display_data",
          "data": {
            "text/plain": [
              "<Figure size 720x360 with 1 Axes>"
            ],
            "image/png": "[encoded data removed]"
          },
          "metadata": {
            "needs_background": "light"
          }
        }
      ],
      "source": [
        "fig, ax = plt.subplots(figsize=(10, 5))\n",
        "plt.title(\"Travel months per gender\",fontsize=10)\n",
        "plt.ylabel(\"Number of customers\",fontsize=10)\n",
        "travel.groupby([\"months\",\"seat_state\"]).size().unstack(\"seat_state\").sort_values(ascending=False,by=\"man\").plot(kind=\"bar\",ax=ax,fontsize=15)\n",
        "plt.xlabel(\"Months\",fontsize=10)\n",
        "plt.show()"
      ]
    },
    {
      "cell_type": "markdown",
      "metadata": {
        "id": "DqXE9t5xalSb"
      },
      "source": [
        "**Months preferred per type of travel(Normal,Student,Handicapped,Child)**"
      ]
    },
    {
      "cell_type": "code",
      "execution_count": 42,
      "metadata": {
        "id": "mGLeNOBaalSb",
        "colab": {
          "base_uri": "https://localhost:8080/",
          "height": 484
        },
        "outputId": "cda6fd62-b970-402d-8643-cc9c9c40e2df"
      },
      "outputs": [
        {
          "output_type": "display_data",
          "data": {
            "text/plain": [
              "<Figure size 864x432 with 1 Axes>"
            ],
            "image/png": "[encoded data removed]"
          },
          "metadata": {
            "needs_background": "light"
          }
        }
      ],
      "source": [
        "fig, ax = plt.subplots(figsize=(12, 6))\n",
        "plt.title(\"Months per type of travel\",fontsize=15)\n",
        "plt.ylabel(\"Number of customers\",fontsize=15)\n",
        "travel.groupby([\"months\",\"traveller_type\"]).size().unstack().sort_values(ascending=False,by=\"normal\").plot(kind=\"bar\",ax=ax,fontsize=15,logy=True)\n",
        "plt.xlabel(\"Months\",fontsize=15)\n",
        "plt.show()"
      ]
    },
    {
      "cell_type": "markdown",
      "metadata": {
        "id": "UVsDeXt0alSb"
      },
      "source": [
        "**Holidays most preferred for travel**"
      ]
    },
    {
      "cell_type": "code",
      "execution_count": 43,
      "metadata": {
        "id": "1kc_ydryalSb"
      },
      "outputs": [],
      "source": [
        "\n",
        "travel['year'] = pd.DatetimeIndex(travel['local_time']).year\n",
        "# get date from travel timestamp and convert to string format\n",
        "travel['date'] = pd.to_datetime(travel['local_time']).dt.strftime('%d/%m/%Y')"
      ]
    },
    {
      "cell_type": "code",
      "source": [
        "travel.head()"
      ],
      "metadata": {
        "colab": {
          "base_uri": "https://localhost:8080/",
          "height": 353
        },
        "id": "KEhGMXzVP0gM",
        "outputId": "e86557d7-a20c-4ec4-9565-810470225f91"
      },
      "execution_count": 44,
      "outputs": [
        {
          "output_type": "execute_result",
          "data": {
            "text/plain": [
              "   ï»¿travel_company  local_time   months traveller_type    office_location  \\\n",
              "0                343  21/01/2014  January         normal  11-nisan (aligor)   \n",
              "1                476  23/01/2012  January         normal             acigol   \n",
              "2                476  20/01/2015  January         normal             acigol   \n",
              "3                476  20/01/2015  January         normal             acigol   \n",
              "4                476  20/01/2015  January         normal             acigol   \n",
              "\n",
              "  departure_point arrival_point seat_state transaction_details  seat_no  \\\n",
              "0          aligor         serik        man             30:05.0        3   \n",
              "1          acigol      istanbul        man             41:40.0       49   \n",
              "2          acigol      istanbul        man             37:40.0       35   \n",
              "3          acigol      istanbul        man             37:40.0       36   \n",
              "4          acigol      istanbul        man             36:53.0       38   \n",
              "\n",
              "   ticket_price         travel_type  \\\n",
              "0          70.0  stops_in_rest_area   \n",
              "1          50.0  stops_in_rest_area   \n",
              "2          50.0  stops_in_rest_area   \n",
              "3          50.0  stops_in_rest_area   \n",
              "4          50.0  stops_in_rest_area   \n",
              "\n",
              "   no_ticket_purchased_other_customers_same_vehicle            route  year  \\\n",
              "0                                                52     aligor-serik  2014   \n",
              "1                                                53  acigol-istanbul  2012   \n",
              "2                                                48  acigol-istanbul  2015   \n",
              "3                                                48  acigol-istanbul  2015   \n",
              "4                                                48  acigol-istanbul  2015   \n",
              "\n",
              "         date  \n",
              "0  21/01/2014  \n",
              "1  23/01/2012  \n",
              "2  20/01/2015  \n",
              "3  20/01/2015  \n",
              "4  20/01/2015  "
            ],
            "text/html": [
              "\n",
              "  <div id=\"df-a9be7354-4f2f-4666-940b-afe0b9ee8799\">\n",
              "    <div class=\"colab-df-container\">\n",
              "      <div>\n",
              "<style scoped>\n",
              "    .dataframe tbody tr th:only-of-type {\n",
              "        vertical-align: middle;\n",
              "    }\n",
              "\n",
              "    .dataframe tbody tr th {\n",
              "        vertical-align: top;\n",
              "    }\n",
              "\n",
              "    .dataframe thead th {\n",
              "        text-align: right;\n",
              "    }\n",
              "</style>\n",
              "<table border=\"1\" class=\"dataframe\">\n",
              "  <thead>\n",
              "    <tr style=\"text-align: right;\">\n",
              "      <th></th>\n",
              "      <th>ï»¿travel_company</th>\n",
              "      <th>local_time</th>\n",
              "      <th>months</th>\n",
              "      <th>traveller_type</th>\n",
              "      <th>office_location</th>\n",
              "      <th>departure_point</th>\n",
              "      <th>arrival_point</th>\n",
              "      <th>seat_state</th>\n",
              "      <th>transaction_details</th>\n",
              "      <th>seat_no</th>\n",
              "      <th>ticket_price</th>\n",
              "      <th>travel_type</th>\n",
              "      <th>no_ticket_purchased_other_customers_same_vehicle</th>\n",
              "      <th>route</th>\n",
              "      <th>year</th>\n",
              "      <th>date</th>\n",
              "    </tr>\n",
              "  </thead>\n",
              "  <tbody>\n",
              "    <tr>\n",
              "      <th>0</th>\n",
              "      <td>343</td>\n",
              "      <td>21/01/2014</td>\n",
              "      <td>January</td>\n",
              "      <td>normal</td>\n",
              "      <td>11-nisan (aligor)</td>\n",
              "      <td>aligor</td>\n",
              "      <td>serik</td>\n",
              "      <td>man</td>\n",
              "      <td>30:05.0</td>\n",
              "      <td>3</td>\n",
              "      <td>70.0</td>\n",
              "      <td>stops_in_rest_area</td>\n",
              "      <td>52</td>\n",
              "      <td>aligor-serik</td>\n",
              "      <td>2014</td>\n",
              "      <td>21/01/2014</td>\n",
              "    </tr>\n",
              "    <tr>\n",
              "      <th>1</th>\n",
              "      <td>476</td>\n",
              "      <td>23/01/2012</td>\n",
              "      <td>January</td>\n",
              "      <td>normal</td>\n",
              "      <td>acigol</td>\n",
              "      <td>acigol</td>\n",
              "      <td>istanbul</td>\n",
              "      <td>man</td>\n",
              "      <td>41:40.0</td>\n",
              "      <td>49</td>\n",
              "      <td>50.0</td>\n",
              "      <td>stops_in_rest_area</td>\n",
              "      <td>53</td>\n",
              "      <td>acigol-istanbul</td>\n",
              "      <td>2012</td>\n",
              "      <td>23/01/2012</td>\n",
              "    </tr>\n",
              "    <tr>\n",
              "      <th>2</th>\n",
              "      <td>476</td>\n",
              "      <td>20/01/2015</td>\n",
              "      <td>January</td>\n",
              "      <td>normal</td>\n",
              "      <td>acigol</td>\n",
              "      <td>acigol</td>\n",
              "      <td>istanbul</td>\n",
              "      <td>man</td>\n",
              "      <td>37:40.0</td>\n",
              "      <td>35</td>\n",
              "      <td>50.0</td>\n",
              "      <td>stops_in_rest_area</td>\n",
              "      <td>48</td>\n",
              "      <td>acigol-istanbul</td>\n",
              "      <td>2015</td>\n",
              "      <td>20/01/2015</td>\n",
              "    </tr>\n",
              "    <tr>\n",
              "      <th>3</th>\n",
              "      <td>476</td>\n",
              "      <td>20/01/2015</td>\n",
              "      <td>January</td>\n",
              "      <td>normal</td>\n",
              "      <td>acigol</td>\n",
              "      <td>acigol</td>\n",
              "      <td>istanbul</td>\n",
              "      <td>man</td>\n",
              "      <td>37:40.0</td>\n",
              "      <td>36</td>\n",
              "      <td>50.0</td>\n",
              "      <td>stops_in_rest_area</td>\n",
              "      <td>48</td>\n",
              "      <td>acigol-istanbul</td>\n",
              "      <td>2015</td>\n",
              "      <td>20/01/2015</td>\n",
              "    </tr>\n",
              "    <tr>\n",
              "      <th>4</th>\n",
              "      <td>476</td>\n",
              "      <td>20/01/2015</td>\n",
              "      <td>January</td>\n",
              "      <td>normal</td>\n",
              "      <td>acigol</td>\n",
              "      <td>acigol</td>\n",
              "      <td>istanbul</td>\n",
              "      <td>man</td>\n",
              "      <td>36:53.0</td>\n",
              "      <td>38</td>\n",
              "      <td>50.0</td>\n",
              "      <td>stops_in_rest_area</td>\n",
              "      <td>48</td>\n",
              "      <td>acigol-istanbul</td>\n",
              "      <td>2015</td>\n",
              "      <td>20/01/2015</td>\n",
              "    </tr>\n",
              "  </tbody>\n",
              "</table>\n",
              "</div>\n",
              "      <button class=\"colab-df-convert\" onclick=\"convertToInteractive('df-a9be7354-4f2f-4666-940b-afe0b9ee8799')\"\n",
              "              title=\"Convert this dataframe to an interactive table.\"\n",
              "              style=\"display:none;\">\n",
              "        \n",
              "  <svg xmlns=\"http://www.w3.org/2000/svg\" height=\"24px\"viewBox=\"0 0 24 24\"\n",
              "       width=\"24px\">\n",
              "    <path d=\"M0 0h24v24H0V0z\" fill=\"none\"/>\n",
              "    <path d=\"M18.56 5.44l.94 2.06.94-2.06 2.06-.94-2.06-.94-.94-2.06-.94 2.06-2.06.94zm-11 1L8.5 8.5l.94-2.06 2.06-.94-2.06-.94L8.5 2.5l-.94 2.06-2.06.94zm10 10l.94 2.06.94-2.06 2.06-.94-2.06-.94-.94-2.06-.94 2.06-2.06.94z\"/><path d=\"M17.41 7.96l-1.37-1.37c-.4-.4-.92-.59-1.43-.59-.52 0-1.04.2-1.43.59L10.3 9.45l-7.72 7.72c-.78.78-.78 2.05 0 2.83L4 21.41c.39.39.9.59 1.41.59.51 0 1.02-.2 1.41-.59l7.78-7.78 2.81-2.81c.8-.78.8-2.07 0-2.86zM5.41 20L4 18.59l7.72-7.72 1.47 1.35L5.41 20z\"/>\n",
              "  </svg>\n",
              "      </button>\n",
              "      \n",
              "  <style>\n",
              "    .colab-df-container {\n",
              "      display:flex;\n",
              "      flex-wrap:wrap;\n",
              "      gap: 12px;\n",
              "    }\n",
              "\n",
              "    .colab-df-convert {\n",
              "      background-color: #E8F0FE;\n",
              "      border: none;\n",
              "      border-radius: 50%;\n",
              "      cursor: pointer;\n",
              "      display: none;\n",
              "      fill: #1967D2;\n",
              "      height: 32px;\n",
              "      padding: 0 0 0 0;\n",
              "      width: 32px;\n",
              "    }\n",
              "\n",
              "    .colab-df-convert:hover {\n",
              "      background-color: #E2EBFA;\n",
              "      box-shadow: 0px 1px 2px rgba(60, 64, 67, 0.3), 0px 1px 3px 1px rgba(60, 64, 67, 0.15);\n",
              "      fill: #174EA6;\n",
              "    }\n",
              "\n",
              "    [theme=dark] .colab-df-convert {\n",
              "      background-color: #3B4455;\n",
              "      fill: #D2E3FC;\n",
              "    }\n",
              "\n",
              "    [theme=dark] .colab-df-convert:hover {\n",
              "      background-color: #434B5C;\n",
              "      box-shadow: 0px 1px 3px 1px rgba(0, 0, 0, 0.15);\n",
              "      filter: drop-shadow(0px 1px 2px rgba(0, 0, 0, 0.3));\n",
              "      fill: #FFFFFF;\n",
              "    }\n",
              "  </style>\n",
              "\n",
              "      <script>\n",
              "        const buttonEl =\n",
              "          document.querySelector('#df-a9be7354-4f2f-4666-940b-afe0b9ee8799 button.colab-df-convert');\n",
              "        buttonEl.style.display =\n",
              "          google.colab.kernel.accessAllowed ? 'block' : 'none';\n",
              "\n",
              "        async function convertToInteractive(key) {\n",
              "          const element = document.querySelector('#df-a9be7354-4f2f-4666-940b-afe0b9ee8799');\n",
              "          const dataTable =\n",
              "            await google.colab.kernel.invokeFunction('convertToInteractive',\n",
              "                                                     [key], {});\n",
              "          if (!dataTable) return;\n",
              "\n",
              "          const docLinkHtml = 'Like what you see? Visit the ' +\n",
              "            '<a target=\"_blank\" href=https://colab.research.google.com/notebooks/data_table.ipynb>data table notebook</a>'\n",
              "            + ' to learn more about interactive tables.';\n",
              "          element.innerHTML = '';\n",
              "          dataTable['output_type'] = 'display_data';\n",
              "          await google.colab.output.renderOutput(dataTable, element);\n",
              "          const docLink = document.createElement('div');\n",
              "          docLink.innerHTML = docLinkHtml;\n",
              "          element.appendChild(docLink);\n",
              "        }\n",
              "      </script>\n",
              "    </div>\n",
              "  </div>\n",
              "  "
            ]
          },
          "metadata": {},
          "execution_count": 44
        }
      ]
    },
    {
      "cell_type": "code",
      "execution_count": 45,
      "metadata": {
        "id": "CUtJEnaValSb"
      },
      "outputs": [],
      "source": [
        "travel['holiday'] = travel[\"date\"] "
      ]
    },
    {
      "cell_type": "code",
      "source": [
        "for row in holiday.iterrows(): #for loop to go through the dates and replace them with the holiday names instead of the date formats(dd/mm/yyyy)\n",
        "  \n",
        "    #print(row[1].values)\n",
        "    #gets the values of one row in a list\n",
        "    #old_values =values[:3]\n",
        "    #new_values =values[4]\n",
        "    \n",
        "\n",
        "    values = row[1].values\n",
        "\n",
        "    travel['holiday'] = travel[\"holiday\"].replace(dict.fromkeys(values,values[4]))\n",
        "\n",
        "\n",
        "travel_holidays = travel[travel['holiday'].isin(holiday['holiday_name'])]"
      ],
      "metadata": {
        "id": "lMn4Po4jlnm1"
      },
      "execution_count": 46,
      "outputs": []
    },
    {
      "cell_type": "code",
      "source": [
        "fig, ax2 = plt.subplots(figsize=(20, 10))\n",
        "plt.title(\"Travel per holiday\",fontsize=10)\n",
        "plt.ylabel(\"Number of customers\",fontsize=10)\n",
        "travel_holidays.groupby([\"holiday\",\"year\"]).size().unstack(\"holiday\").sort_values(ascending=True,by=\"year\").plot(kind='bar', ax=ax2,fontsize=15,logy=True)\n",
        "plt.xlabel(\"Years\",fontsize=15)\n",
        "plt.show()"
      ],
      "metadata": {
        "id": "1vQeIpR2lveO",
        "colab": {
          "base_uri": "https://localhost:8080/",
          "height": 653
        },
        "outputId": "16fd9fed-02c0-467f-d91c-9c2c6f33a040"
      },
      "execution_count": 47,
      "outputs": [
        {
          "output_type": "display_data",
          "data": {
            "text/plain": [
              "<Figure size 1440x720 with 1 Axes>"
            ],
            "image/png": "[encoded data removed]"
          },
          "metadata": {
            "needs_background": "light"
          }
        }
      ]
    },
    {
      "cell_type": "code",
      "source": [
        "travel.head()"
      ],
      "metadata": {
        "colab": {
          "base_uri": "https://localhost:8080/",
          "height": 353
        },
        "id": "P3QSWAAcQuUD",
        "outputId": "a13b94c7-4516-43ce-fe4a-4db32e91f606"
      },
      "execution_count": 48,
      "outputs": [
        {
          "output_type": "execute_result",
          "data": {
            "text/plain": [
              "   ï»¿travel_company  local_time   months traveller_type    office_location  \\\n",
              "0                343  21/01/2014  January         normal  11-nisan (aligor)   \n",
              "1                476  23/01/2012  January         normal             acigol   \n",
              "2                476  20/01/2015  January         normal             acigol   \n",
              "3                476  20/01/2015  January         normal             acigol   \n",
              "4                476  20/01/2015  January         normal             acigol   \n",
              "\n",
              "  departure_point arrival_point seat_state transaction_details  seat_no  \\\n",
              "0          aligor         serik        man             30:05.0        3   \n",
              "1          acigol      istanbul        man             41:40.0       49   \n",
              "2          acigol      istanbul        man             37:40.0       35   \n",
              "3          acigol      istanbul        man             37:40.0       36   \n",
              "4          acigol      istanbul        man             36:53.0       38   \n",
              "\n",
              "   ticket_price         travel_type  \\\n",
              "0          70.0  stops_in_rest_area   \n",
              "1          50.0  stops_in_rest_area   \n",
              "2          50.0  stops_in_rest_area   \n",
              "3          50.0  stops_in_rest_area   \n",
              "4          50.0  stops_in_rest_area   \n",
              "\n",
              "   no_ticket_purchased_other_customers_same_vehicle            route  year  \\\n",
              "0                                                52     aligor-serik  2014   \n",
              "1                                                53  acigol-istanbul  2012   \n",
              "2                                                48  acigol-istanbul  2015   \n",
              "3                                                48  acigol-istanbul  2015   \n",
              "4                                                48  acigol-istanbul  2015   \n",
              "\n",
              "         date     holiday  \n",
              "0  21/01/2014  21/01/2014  \n",
              "1  23/01/2012  23/01/2012  \n",
              "2  20/01/2015  20/01/2015  \n",
              "3  20/01/2015  20/01/2015  \n",
              "4  20/01/2015  20/01/2015  "
            ],
            "text/html": [
              "\n",
              "  <div id=\"df-1b63ddf8-bc52-4472-9ef8-89b73b6eaa6c\">\n",
              "    <div class=\"colab-df-container\">\n",
              "      <div>\n",
              "<style scoped>\n",
              "    .dataframe tbody tr th:only-of-type {\n",
              "        vertical-align: middle;\n",
              "    }\n",
              "\n",
              "    .dataframe tbody tr th {\n",
              "        vertical-align: top;\n",
              "    }\n",
              "\n",
              "    .dataframe thead th {\n",
              "        text-align: right;\n",
              "    }\n",
              "</style>\n",
              "<table border=\"1\" class=\"dataframe\">\n",
              "  <thead>\n",
              "    <tr style=\"text-align: right;\">\n",
              "      <th></th>\n",
              "      <th>ï»¿travel_company</th>\n",
              "      <th>local_time</th>\n",
              "      <th>months</th>\n",
              "      <th>traveller_type</th>\n",
              "      <th>office_location</th>\n",
              "      <th>departure_point</th>\n",
              "      <th>arrival_point</th>\n",
              "      <th>seat_state</th>\n",
              "      <th>transaction_details</th>\n",
              "      <th>seat_no</th>\n",
              "      <th>ticket_price</th>\n",
              "      <th>travel_type</th>\n",
              "      <th>no_ticket_purchased_other_customers_same_vehicle</th>\n",
              "      <th>route</th>\n",
              "      <th>year</th>\n",
              "      <th>date</th>\n",
              "      <th>holiday</th>\n",
              "    </tr>\n",
              "  </thead>\n",
              "  <tbody>\n",
              "    <tr>\n",
              "      <th>0</th>\n",
              "      <td>343</td>\n",
              "      <td>21/01/2014</td>\n",
              "      <td>January</td>\n",
              "      <td>normal</td>\n",
              "      <td>11-nisan (aligor)</td>\n",
              "      <td>aligor</td>\n",
              "      <td>serik</td>\n",
              "      <td>man</td>\n",
              "      <td>30:05.0</td>\n",
              "      <td>3</td>\n",
              "      <td>70.0</td>\n",
              "      <td>stops_in_rest_area</td>\n",
              "      <td>52</td>\n",
              "      <td>aligor-serik</td>\n",
              "      <td>2014</td>\n",
              "      <td>21/01/2014</td>\n",
              "      <td>21/01/2014</td>\n",
              "    </tr>\n",
              "    <tr>\n",
              "      <th>1</th>\n",
              "      <td>476</td>\n",
              "      <td>23/01/2012</td>\n",
              "      <td>January</td>\n",
              "      <td>normal</td>\n",
              "      <td>acigol</td>\n",
              "      <td>acigol</td>\n",
              "      <td>istanbul</td>\n",
              "      <td>man</td>\n",
              "      <td>41:40.0</td>\n",
              "      <td>49</td>\n",
              "      <td>50.0</td>\n",
              "      <td>stops_in_rest_area</td>\n",
              "      <td>53</td>\n",
              "      <td>acigol-istanbul</td>\n",
              "      <td>2012</td>\n",
              "      <td>23/01/2012</td>\n",
              "      <td>23/01/2012</td>\n",
              "    </tr>\n",
              "    <tr>\n",
              "      <th>2</th>\n",
              "      <td>476</td>\n",
              "      <td>20/01/2015</td>\n",
              "      <td>January</td>\n",
              "      <td>normal</td>\n",
              "      <td>acigol</td>\n",
              "      <td>acigol</td>\n",
              "      <td>istanbul</td>\n",
              "      <td>man</td>\n",
              "      <td>37:40.0</td>\n",
              "      <td>35</td>\n",
              "      <td>50.0</td>\n",
              "      <td>stops_in_rest_area</td>\n",
              "      <td>48</td>\n",
              "      <td>acigol-istanbul</td>\n",
              "      <td>2015</td>\n",
              "      <td>20/01/2015</td>\n",
              "      <td>20/01/2015</td>\n",
              "    </tr>\n",
              "    <tr>\n",
              "      <th>3</th>\n",
              "      <td>476</td>\n",
              "      <td>20/01/2015</td>\n",
              "      <td>January</td>\n",
              "      <td>normal</td>\n",
              "      <td>acigol</td>\n",
              "      <td>acigol</td>\n",
              "      <td>istanbul</td>\n",
              "      <td>man</td>\n",
              "      <td>37:40.0</td>\n",
              "      <td>36</td>\n",
              "      <td>50.0</td>\n",
              "      <td>stops_in_rest_area</td>\n",
              "      <td>48</td>\n",
              "      <td>acigol-istanbul</td>\n",
              "      <td>2015</td>\n",
              "      <td>20/01/2015</td>\n",
              "      <td>20/01/2015</td>\n",
              "    </tr>\n",
              "    <tr>\n",
              "      <th>4</th>\n",
              "      <td>476</td>\n",
              "      <td>20/01/2015</td>\n",
              "      <td>January</td>\n",
              "      <td>normal</td>\n",
              "      <td>acigol</td>\n",
              "      <td>acigol</td>\n",
              "      <td>istanbul</td>\n",
              "      <td>man</td>\n",
              "      <td>36:53.0</td>\n",
              "      <td>38</td>\n",
              "      <td>50.0</td>\n",
              "      <td>stops_in_rest_area</td>\n",
              "      <td>48</td>\n",
              "      <td>acigol-istanbul</td>\n",
              "      <td>2015</td>\n",
              "      <td>20/01/2015</td>\n",
              "      <td>20/01/2015</td>\n",
              "    </tr>\n",
              "  </tbody>\n",
              "</table>\n",
              "</div>\n",
              "      <button class=\"colab-df-convert\" onclick=\"convertToInteractive('df-1b63ddf8-bc52-4472-9ef8-89b73b6eaa6c')\"\n",
              "              title=\"Convert this dataframe to an interactive table.\"\n",
              "              style=\"display:none;\">\n",
              "        \n",
              "  <svg xmlns=\"http://www.w3.org/2000/svg\" height=\"24px\"viewBox=\"0 0 24 24\"\n",
              "       width=\"24px\">\n",
              "    <path d=\"M0 0h24v24H0V0z\" fill=\"none\"/>\n",
              "    <path d=\"M18.56 5.44l.94 2.06.94-2.06 2.06-.94-2.06-.94-.94-2.06-.94 2.06-2.06.94zm-11 1L8.5 8.5l.94-2.06 2.06-.94-2.06-.94L8.5 2.5l-.94 2.06-2.06.94zm10 10l.94 2.06.94-2.06 2.06-.94-2.06-.94-.94-2.06-.94 2.06-2.06.94z\"/><path d=\"M17.41 7.96l-1.37-1.37c-.4-.4-.92-.59-1.43-.59-.52 0-1.04.2-1.43.59L10.3 9.45l-7.72 7.72c-.78.78-.78 2.05 0 2.83L4 21.41c.39.39.9.59 1.41.59.51 0 1.02-.2 1.41-.59l7.78-7.78 2.81-2.81c.8-.78.8-2.07 0-2.86zM5.41 20L4 18.59l7.72-7.72 1.47 1.35L5.41 20z\"/>\n",
              "  </svg>\n",
              "      </button>\n",
              "      \n",
              "  <style>\n",
              "    .colab-df-container {\n",
              "      display:flex;\n",
              "      flex-wrap:wrap;\n",
              "      gap: 12px;\n",
              "    }\n",
              "\n",
              "    .colab-df-convert {\n",
              "      background-color: #E8F0FE;\n",
              "      border: none;\n",
              "      border-radius: 50%;\n",
              "      cursor: pointer;\n",
              "      display: none;\n",
              "      fill: #1967D2;\n",
              "      height: 32px;\n",
              "      padding: 0 0 0 0;\n",
              "      width: 32px;\n",
              "    }\n",
              "\n",
              "    .colab-df-convert:hover {\n",
              "      background-color: #E2EBFA;\n",
              "      box-shadow: 0px 1px 2px rgba(60, 64, 67, 0.3), 0px 1px 3px 1px rgba(60, 64, 67, 0.15);\n",
              "      fill: #174EA6;\n",
              "    }\n",
              "\n",
              "    [theme=dark] .colab-df-convert {\n",
              "      background-color: #3B4455;\n",
              "      fill: #D2E3FC;\n",
              "    }\n",
              "\n",
              "    [theme=dark] .colab-df-convert:hover {\n",
              "      background-color: #434B5C;\n",
              "      box-shadow: 0px 1px 3px 1px rgba(0, 0, 0, 0.15);\n",
              "      filter: drop-shadow(0px 1px 2px rgba(0, 0, 0, 0.3));\n",
              "      fill: #FFFFFF;\n",
              "    }\n",
              "  </style>\n",
              "\n",
              "      <script>\n",
              "        const buttonEl =\n",
              "          document.querySelector('#df-1b63ddf8-bc52-4472-9ef8-89b73b6eaa6c button.colab-df-convert');\n",
              "        buttonEl.style.display =\n",
              "          google.colab.kernel.accessAllowed ? 'block' : 'none';\n",
              "\n",
              "        async function convertToInteractive(key) {\n",
              "          const element = document.querySelector('#df-1b63ddf8-bc52-4472-9ef8-89b73b6eaa6c');\n",
              "          const dataTable =\n",
              "            await google.colab.kernel.invokeFunction('convertToInteractive',\n",
              "                                                     [key], {});\n",
              "          if (!dataTable) return;\n",
              "\n",
              "          const docLinkHtml = 'Like what you see? Visit the ' +\n",
              "            '<a target=\"_blank\" href=https://colab.research.google.com/notebooks/data_table.ipynb>data table notebook</a>'\n",
              "            + ' to learn more about interactive tables.';\n",
              "          element.innerHTML = '';\n",
              "          dataTable['output_type'] = 'display_data';\n",
              "          await google.colab.output.renderOutput(dataTable, element);\n",
              "          const docLink = document.createElement('div');\n",
              "          docLink.innerHTML = docLinkHtml;\n",
              "          element.appendChild(docLink);\n",
              "        }\n",
              "      </script>\n",
              "    </div>\n",
              "  </div>\n",
              "  "
            ]
          },
          "metadata": {},
          "execution_count": 48
        }
      ]
    }
  ],
  "metadata": {
    "colab": {
      "collapsed_sections": [],
      "name": "updated_group_project_noseless.ipynb",
      "provenance": [],
      "include_colab_link": true
    },
    "kernelspec": {
      "display_name": "Python 3 (ipykernel)",
      "language": "python",
      "name": "python3"
    },
    "language_info": {
      "codemirror_mode": {
        "name": "ipython",
        "version": 3
      },
      "file_extension": ".py",
      "mimetype": "text/x-python",
      "name": "python",
      "nbconvert_exporter": "python",
      "pygments_lexer": "ipython3",
      "version": "3.9.7"
    }
  },
  "nbformat": 4,
  "nbformat_minor": 0
}